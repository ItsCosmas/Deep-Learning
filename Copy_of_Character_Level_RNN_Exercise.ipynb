{
  "nbformat": 4,
  "nbformat_minor": 0,
  "metadata": {
    "colab": {
      "name": "Copy of Character_Level_RNN_Exercise.ipynb",
      "version": "0.3.2",
      "provenance": [],
      "collapsed_sections": [],
      "toc_visible": true
    },
    "kernelspec": {
      "name": "python3",
      "display_name": "Python 3"
    },
    "accelerator": "GPU"
  },
  "cells": [
    {
      "metadata": {
        "id": "S_Za9TBBlkoL",
        "colab_type": "text"
      },
      "cell_type": "markdown",
      "source": [
        "# Character-Level LSTM in PyTorch\n",
        "\n",
        "In this notebook, I'll construct a character-level LSTM with PyTorch. The network will train character by character on some text, then generate new text character by character. As an example, I will train on Anna Karenina. **This model will be able to generate new text based on the text from the book!**\n",
        "\n",
        "This network is based off of Andrej Karpathy's [post on RNNs](http://karpathy.github.io/2015/05/21/rnn-effectiveness/) and [implementation in Torch](https://github.com/karpathy/char-rnn). Below is the general architecture of the character-wise RNN.\n",
        "\n",
        "<img src=\"https://github.com/udacity/deep-learning-v2-pytorch/blob/master/recurrent-neural-networks/char-rnn/assets/charseq.jpeg?raw=1\" width=\"500\">"
      ]
    },
    {
      "metadata": {
        "id": "HdqgdIZnlkoQ",
        "colab_type": "text"
      },
      "cell_type": "markdown",
      "source": [
        "First let's load in our required resources for data loading and model creation."
      ]
    },
    {
      "metadata": {
        "id": "ih8sdVCropTU",
        "colab_type": "code",
        "outputId": "b2d442bc-5b28-40e5-80a2-914b9dcbe820",
        "colab": {
          "base_uri": "https://localhost:8080/",
          "height": 54
        }
      },
      "cell_type": "code",
      "source": [
        "# http://pytorch.org/\n",
        "from os.path import exists\n",
        "from wheel.pep425tags import get_abbr_impl, get_impl_ver, get_abi_tag\n",
        "platform = '{}{}-{}'.format(get_abbr_impl(), get_impl_ver(), get_abi_tag())\n",
        "cuda_output = !ldconfig -p|grep cudart.so|sed -e 's/.*\\.\\([0-9]*\\)\\.\\([0-9]*\\)$/cu\\1\\2/'\n",
        "accelerator = cuda_output[0] if exists('/dev/nvidia0') else 'cpu'\n",
        "\n",
        "!pip install -q http://download.pytorch.org/whl/{accelerator}/torch-0.4.1-{platform}-linux_x86_64.whl torchvision\n",
        "import torch"
      ],
      "execution_count": 0,
      "outputs": [
        {
          "output_type": "stream",
          "text": [
            "tcmalloc: large alloc 1073750016 bytes == 0x580b6000 @  0x7f089d3c32a4 0x594e17 0x626104 0x51190a 0x4f5277 0x510c78 0x5119bd 0x4f5277 0x4f3338 0x510fb0 0x5119bd 0x4f5277 0x4f3338 0x510fb0 0x5119bd 0x4f5277 0x4f3338 0x510fb0 0x5119bd 0x4f6070 0x510c78 0x5119bd 0x4f5277 0x4f3338 0x510fb0 0x5119bd 0x4f6070 0x4f3338 0x510fb0 0x5119bd 0x4f6070\n"
          ],
          "name": "stdout"
        }
      ]
    },
    {
      "metadata": {
        "id": "hYiK1WsclkoR",
        "colab_type": "code",
        "colab": {}
      },
      "cell_type": "code",
      "source": [
        "import numpy as np\n",
        "import torch\n",
        "from torch import nn\n",
        "import torch.nn.functional as F"
      ],
      "execution_count": 0,
      "outputs": []
    },
    {
      "metadata": {
        "id": "34oJO2grlkoX",
        "colab_type": "text"
      },
      "cell_type": "markdown",
      "source": [
        "## Load in Data\n",
        "\n",
        "Then, we'll load the Anna Karenina text file and convert it into integers for our network to use. "
      ]
    },
    {
      "metadata": {
        "id": "OPZ_NiKHlkoZ",
        "colab_type": "code",
        "colab": {}
      },
      "cell_type": "code",
      "source": [
        "# open text file and read in data as `text`\n",
        "with open('anna.txt', 'r') as f:\n",
        "    text = f.read()"
      ],
      "execution_count": 0,
      "outputs": []
    },
    {
      "metadata": {
        "id": "VCIcUyXNlkoe",
        "colab_type": "text"
      },
      "cell_type": "markdown",
      "source": [
        "Let's check out the first 100 characters, make sure everything is peachy. According to the [American Book Review](http://americanbookreview.org/100bestlines.asp), this is the 6th best first line of a book ever."
      ]
    },
    {
      "metadata": {
        "id": "1ZhbZ6nTlkof",
        "colab_type": "code",
        "outputId": "565ecd87-e5aa-41dc-972e-1703bafc7cc9",
        "colab": {
          "base_uri": "https://localhost:8080/",
          "height": 34
        }
      },
      "cell_type": "code",
      "source": [
        "text[:100]"
      ],
      "execution_count": 0,
      "outputs": [
        {
          "output_type": "execute_result",
          "data": {
            "text/plain": [
              "'Chapter 1\\n\\n\\nHappy families are all alike; every unhappy family is unhappy in its own\\nway.\\n\\nEverythin'"
            ]
          },
          "metadata": {
            "tags": []
          },
          "execution_count": 6
        }
      ]
    },
    {
      "metadata": {
        "id": "1Y73fVILlkok",
        "colab_type": "text"
      },
      "cell_type": "markdown",
      "source": [
        "### Tokenization\n",
        "\n",
        "In the cells, below, I'm creating a couple **dictionaries** to convert the characters to and from integers. Encoding the characters as integers makes it easier to use as input in the network."
      ]
    },
    {
      "metadata": {
        "id": "gTJ0PxJclkol",
        "colab_type": "code",
        "colab": {}
      },
      "cell_type": "code",
      "source": [
        "# encode the text and map each character to an integer and vice versa\n",
        "\n",
        "# we create two dictionaries:\n",
        "# 1. int2char, which maps integers to characters\n",
        "# 2. char2int, which maps characters to unique integers\n",
        "chars = tuple(set(text))\n",
        "int2char = dict(enumerate(chars))\n",
        "char2int = {ch: ii for ii, ch in int2char.items()}\n",
        "\n",
        "# encode the text\n",
        "encoded = np.array([char2int[ch] for ch in text])"
      ],
      "execution_count": 0,
      "outputs": []
    },
    {
      "metadata": {
        "id": "SkTnhdhnlkor",
        "colab_type": "text"
      },
      "cell_type": "markdown",
      "source": [
        "And we can see those same characters from above, encoded as integers."
      ]
    },
    {
      "metadata": {
        "id": "uZydpIGQlkot",
        "colab_type": "code",
        "outputId": "652facd2-9ade-4120-d308-76f3852bfe48",
        "colab": {
          "base_uri": "https://localhost:8080/",
          "height": 119
        }
      },
      "cell_type": "code",
      "source": [
        "encoded[:100]"
      ],
      "execution_count": 0,
      "outputs": [
        {
          "output_type": "execute_result",
          "data": {
            "text/plain": [
              "array([61, 18, 79, 60, 33,  3,  0, 76, 68, 80, 80, 80, 46, 79, 60, 60, 67,\n",
              "       76, 34, 79, 73, 26, 58, 26,  3,  5, 76, 79,  0,  3, 76, 79, 58, 58,\n",
              "       76, 79, 58, 26, 30,  3, 51, 76,  3, 15,  3,  0, 67, 76, 11, 13, 18,\n",
              "       79, 60, 60, 67, 76, 34, 79, 73, 26, 58, 67, 76, 26,  5, 76, 11, 13,\n",
              "       18, 79, 60, 60, 67, 76, 26, 13, 76, 26, 33,  5, 76, 37, 54, 13, 80,\n",
              "       54, 79, 67, 47, 80, 80, 59, 15,  3,  0, 67, 33, 18, 26, 13])"
            ]
          },
          "metadata": {
            "tags": []
          },
          "execution_count": 8
        }
      ]
    },
    {
      "metadata": {
        "id": "hQ0t8PWBlkoy",
        "colab_type": "text"
      },
      "cell_type": "markdown",
      "source": [
        "## Pre-processing the data\n",
        "\n",
        "As you can see in our char-RNN image above, our LSTM expects an input that is **one-hot encoded** meaning that each character is converted into an integer (via our created dictionary) and *then* converted into a column vector where only it's corresponding integer index will have the value of 1 and the rest of the vector will be filled with 0's. Since we're one-hot encoding the data, let's make a function to do that!\n"
      ]
    },
    {
      "metadata": {
        "id": "-Ne3HeO2lko0",
        "colab_type": "code",
        "colab": {}
      },
      "cell_type": "code",
      "source": [
        "def one_hot_encode(arr, n_labels):\n",
        "    \n",
        "    # Initialize the the encoded array\n",
        "    one_hot = np.zeros((np.multiply(*arr.shape), n_labels), dtype=np.float32)\n",
        "    \n",
        "    # Fill the appropriate elements with ones\n",
        "    one_hot[np.arange(one_hot.shape[0]), arr.flatten()] = 1.\n",
        "    \n",
        "    # Finally reshape it to get back to the original array\n",
        "    one_hot = one_hot.reshape((*arr.shape, n_labels))\n",
        "    \n",
        "    return one_hot"
      ],
      "execution_count": 0,
      "outputs": []
    },
    {
      "metadata": {
        "id": "6VfHcACBlko5",
        "colab_type": "code",
        "outputId": "95da4704-3086-4583-9be5-a3da2af00569",
        "colab": {
          "base_uri": "https://localhost:8080/",
          "height": 68
        }
      },
      "cell_type": "code",
      "source": [
        "# check that the function works as expected\n",
        "test_seq = np.array([[3, 5, 1]])\n",
        "one_hot = one_hot_encode(test_seq, 8)\n",
        "\n",
        "print(one_hot)"
      ],
      "execution_count": 0,
      "outputs": [
        {
          "output_type": "stream",
          "text": [
            "[[[0. 0. 0. 1. 0. 0. 0. 0.]\n",
            "  [0. 0. 0. 0. 0. 1. 0. 0.]\n",
            "  [0. 1. 0. 0. 0. 0. 0. 0.]]]\n"
          ],
          "name": "stdout"
        }
      ]
    },
    {
      "metadata": {
        "id": "UEM3ScHplkpA",
        "colab_type": "text"
      },
      "cell_type": "markdown",
      "source": [
        "## Making training mini-batches\n",
        "\n",
        "\n",
        "To train on this data, we also want to create mini-batches for training. Remember that we want our batches to be multiple sequences of some desired number of sequence steps. Considering a simple example, our batches would look like this:\n",
        "\n",
        "<img src=\"https://github.com/udacity/deep-learning-v2-pytorch/blob/master/recurrent-neural-networks/char-rnn/assets/sequence_batching@1x.png?raw=1\" width=500px>\n",
        "\n",
        "\n",
        "<br>\n",
        "\n",
        "In this example, we'll take the encoded characters (passed in as the `arr` parameter) and split them into multiple sequences, given by `batch_size`. Each of our sequences will be `seq_length` long.\n",
        "\n",
        "### Creating Batches\n",
        "\n",
        "**1. The first thing we need to do is discard some of the text so we only have completely full mini-batches. **\n",
        "\n",
        "Each batch contains $N \\times M$ characters, where $N$ is the batch size (the number of sequences in a batch) and $M$ is the seq_length or number of time steps in a sequence. Then, to get the total number of batches, $K$, that we can make from the array `arr`, you divide the length of `arr` by the number of characters per batch. Once you know the number of batches, you can get the total number of characters to keep from `arr`, $N * M * K$.\n",
        "\n",
        "**2. After that, we need to split `arr` into $N$ batches. ** \n",
        "\n",
        "You can do this using `arr.reshape(size)` where `size` is a tuple containing the dimensions sizes of the reshaped array. We know we want $N$ sequences in a batch, so let's make that the size of the first dimension. For the second dimension, you can use `-1` as a placeholder in the size, it'll fill up the array with the appropriate data for you. After this, you should have an array that is $N \\times (M * K)$.\n",
        "\n",
        "**3. Now that we have this array, we can iterate through it to get our mini-batches. **\n",
        "\n",
        "The idea is each batch is a $N \\times M$ window on the $N \\times (M * K)$ array. For each subsequent batch, the window moves over by `seq_length`. We also want to create both the input and target arrays. Remember that the targets are just the inputs shifted over by one character. The way I like to do this window is use `range` to take steps of size `n_steps` from $0$ to `arr.shape[1]`, the total number of tokens in each sequence. That way, the integers you get from `range` always point to the start of a batch, and each window is `seq_length` wide.\n",
        "\n",
        "> **TODO:** Write the code for creating batches in the function below. The exercises in this notebook _will not be easy_. I've provided a notebook with solutions alongside this notebook. If you get stuck, checkout the solutions. The most important thing is that you don't copy and paste the code into here, **type out the solution code yourself.**"
      ]
    },
    {
      "metadata": {
        "id": "51Jfw0DSlkpC",
        "colab_type": "code",
        "colab": {}
      },
      "cell_type": "code",
      "source": [
        "def get_batches(arr, batch_size, seq_length):\n",
        "    '''Create a generator that returns batches of size\n",
        "       batch_size x seq_length from arr.\n",
        "       \n",
        "       Arguments\n",
        "       ---------\n",
        "       arr: Array you want to make batches from\n",
        "       batch_size: Batch size, the number of sequences per batch\n",
        "       seq_length: Number of encoded chars in a sequence\n",
        "    '''\n",
        "    batch_size_total = batch_size * seq_length\n",
        "    # total number of batches we can make\n",
        "    n_batches = len(arr)//batch_size_total\n",
        "    \n",
        "    # Keep only enough characters to make full batches\n",
        "    arr = arr[:n_batches * batch_size_total]\n",
        "    # Reshape into batch_size rows\n",
        "    arr = arr.reshape((batch_size, -1))\n",
        "    \n",
        "    # iterate through the array, one sequence at a time\n",
        "    for n in range(0, arr.shape[1], seq_length):\n",
        "        # The features\n",
        "        x = arr[:, n:n+seq_length]\n",
        "        # The targets, shifted by one\n",
        "        y = np.zeros_like(x)\n",
        "        try:\n",
        "            y[:, :-1], y[:, -1] = x[:, 1:], arr[:, n+seq_length]\n",
        "        except IndexError:\n",
        "            y[:, :-1], y[:, -1] = x[:, 1:], arr[:, 0]\n",
        "        yield x, y\n"
      ],
      "execution_count": 0,
      "outputs": []
    },
    {
      "metadata": {
        "id": "tmOmhE9qlkpG",
        "colab_type": "text"
      },
      "cell_type": "markdown",
      "source": [
        "### Test Your Implementation\n",
        "\n",
        "Now I'll make some data sets and we can check out what's going on as we batch data. Here, as an example, I'm going to use a batch size of 8 and 50 sequence steps."
      ]
    },
    {
      "metadata": {
        "id": "OWNb4IVTlkpH",
        "colab_type": "code",
        "colab": {}
      },
      "cell_type": "code",
      "source": [
        "batches = get_batches(encoded, 8, 50)\n",
        "x, y = next(batches)"
      ],
      "execution_count": 0,
      "outputs": []
    },
    {
      "metadata": {
        "id": "bNnKO7vZlkpM",
        "colab_type": "code",
        "outputId": "928c8fe3-a043-4ae2-a969-058829936d45",
        "colab": {
          "base_uri": "https://localhost:8080/",
          "height": 340
        }
      },
      "cell_type": "code",
      "source": [
        "# printing out the first 10 items in a sequence\n",
        "print('x\\n', x[:10, :10])\n",
        "print('\\ny\\n', y[:10, :10])"
      ],
      "execution_count": 0,
      "outputs": [
        {
          "output_type": "stream",
          "text": [
            "x\n",
            " [[61 18 79 60 33  3  0 76 68 80]\n",
            " [ 5 37 13 76 33 18 79 33 76 79]\n",
            " [ 3 13 43 76 37  0 76 79 76 34]\n",
            " [ 5 76 33 18  3 76 14 18 26  3]\n",
            " [76  5 79 54 76 18  3  0 76 33]\n",
            " [14 11  5  5 26 37 13 76 79 13]\n",
            " [76 71 13 13 79 76 18 79 43 76]\n",
            " [22 31 58 37 13  5 30 67 47 76]]\n",
            "\n",
            "y\n",
            " [[18 79 60 33  3  0 76 68 80 80]\n",
            " [37 13 76 33 18 79 33 76 79 33]\n",
            " [13 43 76 37  0 76 79 76 34 37]\n",
            " [76 33 18  3 76 14 18 26  3 34]\n",
            " [ 5 79 54 76 18  3  0 76 33  3]\n",
            " [11  5  5 26 37 13 76 79 13 43]\n",
            " [71 13 13 79 76 18 79 43 76  5]\n",
            " [31 58 37 13  5 30 67 47 76 62]]\n"
          ],
          "name": "stdout"
        }
      ]
    },
    {
      "metadata": {
        "id": "UAViMHSYlkpQ",
        "colab_type": "text"
      },
      "cell_type": "markdown",
      "source": [
        "If you implemented `get_batches` correctly, the above output should look something like \n",
        "```\n",
        "x\n",
        " [[25  8 60 11 45 27 28 73  1  2]\n",
        " [17  7 20 73 45  8 60 45 73 60]\n",
        " [27 20 80 73  7 28 73 60 73 65]\n",
        " [17 73 45  8 27 73 66  8 46 27]\n",
        " [73 17 60 12 73  8 27 28 73 45]\n",
        " [66 64 17 17 46  7 20 73 60 20]\n",
        " [73 76 20 20 60 73  8 60 80 73]\n",
        " [47 35 43  7 20 17 24 50 37 73]]\n",
        "\n",
        "y\n",
        " [[ 8 60 11 45 27 28 73  1  2  2]\n",
        " [ 7 20 73 45  8 60 45 73 60 45]\n",
        " [20 80 73  7 28 73 60 73 65  7]\n",
        " [73 45  8 27 73 66  8 46 27 65]\n",
        " [17 60 12 73  8 27 28 73 45 27]\n",
        " [64 17 17 46  7 20 73 60 20 80]\n",
        " [76 20 20 60 73  8 60 80 73 17]\n",
        " [35 43  7 20 17 24 50 37 73 36]]\n",
        " ```\n",
        " although the exact numbers may be different. Check to make sure the data is shifted over one step for `y`."
      ]
    },
    {
      "metadata": {
        "id": "1hXAxPDYlkpQ",
        "colab_type": "text"
      },
      "cell_type": "markdown",
      "source": [
        "---\n",
        "## Defining the network with PyTorch\n",
        "\n",
        "Below is where you'll define the network.\n",
        "\n",
        "<img src=\"https://github.com/udacity/deep-learning-v2-pytorch/blob/master/recurrent-neural-networks/char-rnn/assets/charRNN.png?raw=1\" width=500px>\n",
        "\n",
        "Next, you'll use PyTorch to define the architecture of the network. We start by defining the layers and operations we want. Then, define a method for the forward pass. You've also been given a method for predicting characters."
      ]
    },
    {
      "metadata": {
        "id": "MxM2IdQUlkpS",
        "colab_type": "text"
      },
      "cell_type": "markdown",
      "source": [
        "### Model Structure\n",
        "\n",
        "In `__init__` the suggested structure is as follows:\n",
        "* Create and store the necessary dictionaries (this has been done for you)\n",
        "* Define an LSTM layer that takes as params: an input size (the number of characters), a hidden layer size `n_hidden`, a number of layers `n_layers`, a dropout probability `drop_prob`, and a batch_first boolean (True, since we are batching)\n",
        "* Define a dropout layer with `dropout_prob`\n",
        "* Define a fully-connected layer with params: input size `n_hidden` and output size (the number of characters)\n",
        "* Finally, initialize the weights (again, this has been given)\n",
        "\n",
        "Note that some parameters have been named and given in the `__init__` function, and we use them and store them by doing something like `self.drop_prob = drop_prob`."
      ]
    },
    {
      "metadata": {
        "id": "wnpNR-ZTlkpT",
        "colab_type": "text"
      },
      "cell_type": "markdown",
      "source": [
        "---\n",
        "### LSTM Inputs/Outputs\n",
        "\n",
        "You can create a basic [LSTM layer](https://pytorch.org/docs/stable/nn.html#lstm) as follows\n",
        "\n",
        "```python\n",
        "self.lstm = nn.LSTM(input_size, n_hidden, n_layers, \n",
        "                            dropout=drop_prob, batch_first=True)\n",
        "```\n",
        "\n",
        "where `input_size` is the number of characters this cell expects to see as sequential input, and `n_hidden` is the number of units in the hidden layers in the cell. And we can add dropout by adding a dropout parameter with a specified probability; this will automatically add dropout to the inputs or outputs. Finally, in the `forward` function, we can stack up the LSTM cells into layers using `.view`. With this, you pass in a list of cells and it will send the output of one cell into the next cell.\n",
        "\n",
        "We also need to create an initial hidden state of all zeros. This is done like so\n",
        "\n",
        "```python\n",
        "self.init_hidden()\n",
        "```"
      ]
    },
    {
      "metadata": {
        "id": "Fr9BeTa_lkpU",
        "colab_type": "code",
        "outputId": "eda47a5c-5c41-4db2-c364-e9a5786688a6",
        "colab": {
          "base_uri": "https://localhost:8080/",
          "height": 34
        }
      },
      "cell_type": "code",
      "source": [
        "# check if GPU is available\n",
        "train_on_gpu = torch.cuda.is_available()\n",
        "if(train_on_gpu):\n",
        "    print('Damn! Am Training on a GPU!')\n",
        "else: \n",
        "    print('No GPU available, training on CPU; consider making n_epochs very small.')"
      ],
      "execution_count": 0,
      "outputs": [
        {
          "output_type": "stream",
          "text": [
            "Damn! Am Training on a GPU!\n"
          ],
          "name": "stdout"
        }
      ]
    },
    {
      "metadata": {
        "id": "WO1d6Z4plkpZ",
        "colab_type": "code",
        "colab": {}
      },
      "cell_type": "code",
      "source": [
        "class CharRNN(nn.Module):\n",
        "    \n",
        "    def __init__(self, tokens, n_hidden=256, n_layers=2,\n",
        "                               drop_prob=0.5, lr=0.001):\n",
        "        super().__init__()\n",
        "        self.drop_prob = drop_prob\n",
        "        self.n_layers = n_layers\n",
        "        self.n_hidden = n_hidden\n",
        "        self.lr = lr\n",
        "        \n",
        "        # creating character dictionaries\n",
        "        self.chars = tokens\n",
        "        self.int2char = dict(enumerate(self.chars))\n",
        "        self.char2int = {ch: ii for ii, ch in self.int2char.items()}\n",
        "        \n",
        "        ## TODO: define the LSTM\n",
        "        self.lstm = nn.LSTM(len(self.chars), n_hidden, n_layers, \n",
        "                            dropout=drop_prob, batch_first=True)\n",
        "        \n",
        "        ## TODO: define a dropout layer\n",
        "        self.dropout = nn.Dropout(drop_prob)\n",
        "        \n",
        "        ## TODO: define the final, fully-connected output layer\n",
        "        self.fc = nn.Linear(n_hidden, len(self.chars))\n",
        "      \n",
        "    \n",
        "    def forward(self, x, hidden):\n",
        "        ''' Forward pass through the network. \n",
        "            These inputs are x, and the hidden/cell state `hidden`. '''\n",
        "                \n",
        "        ## TODO: Get the outputs and the new hidden state from the lstm\n",
        "        r_output, hidden = self.lstm(x, hidden)\n",
        "        \n",
        "        ## TODO: pass through a dropout layer\n",
        "        out = self.dropout(r_output)\n",
        "        \n",
        "        # Stack up LSTM outputs using view\n",
        "        # you may need to use contiguous to reshape the output\n",
        "        out = out.contiguous().view(-1, self.n_hidden)\n",
        "        \n",
        "        ## TODO: put x through the fully-connected layer\n",
        "        out = self.fc(out)\n",
        "        \n",
        "        # return the final output and the hidden state\n",
        "        return out, hidden\n",
        "    \n",
        "    \n",
        "    def init_hidden(self, batch_size):\n",
        "        ''' Initializes hidden state '''\n",
        "        # Create two new tensors with sizes n_layers x batch_size x n_hidden,\n",
        "        # initialized to zero, for hidden state and cell state of LSTM\n",
        "        weight = next(self.parameters()).data\n",
        "        \n",
        "        if (train_on_gpu):\n",
        "            hidden = (weight.new(self.n_layers, batch_size, self.n_hidden).zero_().cuda(),\n",
        "                  weight.new(self.n_layers, batch_size, self.n_hidden).zero_().cuda())\n",
        "        else:\n",
        "            hidden = (weight.new(self.n_layers, batch_size, self.n_hidden).zero_(),\n",
        "                      weight.new(self.n_layers, batch_size, self.n_hidden).zero_())\n",
        "        \n",
        "        return hidden"
      ],
      "execution_count": 0,
      "outputs": []
    },
    {
      "metadata": {
        "id": "TBs7eiYdlkpd",
        "colab_type": "text"
      },
      "cell_type": "markdown",
      "source": [
        "## Time to train\n",
        "\n",
        "The train function gives us the ability to set the number of epochs, the learning rate, and other parameters.\n",
        "\n",
        "Below we're using an Adam optimizer and cross entropy loss since we are looking at character class scores as output. We calculate the loss and perform backpropagation, as usual!\n",
        "\n",
        "A couple of details about training: \n",
        ">* Within the batch loop, we detach the hidden state from its history; this time setting it equal to a new *tuple* variable because an LSTM has a hidden state that is a tuple of the hidden and cell states.\n",
        "* We use [`clip_grad_norm_`](https://pytorch.org/docs/stable/_modules/torch/nn/utils/clip_grad.html) to help prevent exploding gradients."
      ]
    },
    {
      "metadata": {
        "id": "M-l2BVABlkpf",
        "colab_type": "code",
        "colab": {}
      },
      "cell_type": "code",
      "source": [
        "def train(net, data, epochs=10, batch_size=10, seq_length=50, lr=0.001, clip=5, val_frac=0.1, print_every=10):\n",
        "    ''' Training a network \n",
        "    \n",
        "        Arguments\n",
        "        ---------\n",
        "        \n",
        "        net: CharRNN network\n",
        "        data: text data to train the network\n",
        "        epochs: Number of epochs to train\n",
        "        batch_size: Number of mini-sequences per mini-batch, aka batch size\n",
        "        seq_length: Number of character steps per mini-batch\n",
        "        lr: learning rate\n",
        "        clip: gradient clipping\n",
        "        val_frac: Fraction of data to hold out for validation\n",
        "        print_every: Number of steps for printing training and validation loss\n",
        "    \n",
        "    '''\n",
        "    net.train()\n",
        "    \n",
        "    opt = torch.optim.Adam(net.parameters(), lr=lr)\n",
        "    criterion = nn.CrossEntropyLoss()\n",
        "    \n",
        "    # create training and validation data\n",
        "    val_idx = int(len(data)*(1-val_frac))\n",
        "    data, val_data = data[:val_idx], data[val_idx:]\n",
        "    \n",
        "    if(train_on_gpu):\n",
        "        net.cuda()\n",
        "    \n",
        "    counter = 0\n",
        "    n_chars = len(net.chars)\n",
        "    for e in range(epochs):\n",
        "        # initialize hidden state\n",
        "        h = net.init_hidden(batch_size)\n",
        "        \n",
        "        for x, y in get_batches(data, batch_size, seq_length):\n",
        "            counter += 1\n",
        "            \n",
        "            # One-hot encode our data and make them Torch tensors\n",
        "            x = one_hot_encode(x, n_chars)\n",
        "            inputs, targets = torch.from_numpy(x), torch.from_numpy(y)\n",
        "            \n",
        "            if(train_on_gpu):\n",
        "                inputs, targets = inputs.cuda(), targets.cuda()\n",
        "\n",
        "            # Creating new variables for the hidden state, otherwise\n",
        "            # we'd backprop through the entire training history\n",
        "            h = tuple([each.data for each in h])\n",
        "\n",
        "            # zero accumulated gradients\n",
        "            net.zero_grad()\n",
        "            \n",
        "            # get the output from the model\n",
        "            output, h = net(inputs, h)\n",
        "            \n",
        "            # calculate the loss and perform backprop\n",
        "            loss = criterion(output, targets.view(batch_size*seq_length))\n",
        "            loss.backward()\n",
        "            # `clip_grad_norm` helps prevent the exploding gradient problem in RNNs / LSTMs.\n",
        "            nn.utils.clip_grad_norm_(net.parameters(), clip)\n",
        "            opt.step()\n",
        "            \n",
        "            # loss stats\n",
        "            if counter % print_every == 0:\n",
        "                # Get validation loss\n",
        "                val_h = net.init_hidden(batch_size)\n",
        "                val_losses = []\n",
        "                net.eval()\n",
        "                for x, y in get_batches(val_data, batch_size, seq_length):\n",
        "                    # One-hot encode our data and make them Torch tensors\n",
        "                    x = one_hot_encode(x, n_chars)\n",
        "                    x, y = torch.from_numpy(x), torch.from_numpy(y)\n",
        "                    \n",
        "                    # Creating new variables for the hidden state, otherwise\n",
        "                    # we'd backprop through the entire training history\n",
        "                    val_h = tuple([each.data for each in val_h])\n",
        "                    \n",
        "                    inputs, targets = x, y\n",
        "                    if(train_on_gpu):\n",
        "                        inputs, targets = inputs.cuda(), targets.cuda()\n",
        "\n",
        "                    output, val_h = net(inputs, val_h)\n",
        "                    val_loss = criterion(output, targets.view(batch_size*seq_length))\n",
        "                \n",
        "                    val_losses.append(val_loss.item())\n",
        "                \n",
        "                net.train() # reset to train mode after iterationg through validation data\n",
        "                \n",
        "                print(\"Epoch: {}/{}...\".format(e+1, epochs),\n",
        "                      \"Step: {}...\".format(counter),\n",
        "                      \"Loss: {:.4f}...\".format(loss.item()),\n",
        "                      \"Val Loss: {:.4f}\".format(np.mean(val_losses)))"
      ],
      "execution_count": 0,
      "outputs": []
    },
    {
      "metadata": {
        "id": "6BXCQX5Klkpm",
        "colab_type": "text"
      },
      "cell_type": "markdown",
      "source": [
        "## Instantiating the model\n",
        "\n",
        "Now we can actually train the network. First we'll create the network itself, with some given hyperparameters. Then, define the mini-batches sizes, and start training!"
      ]
    },
    {
      "metadata": {
        "id": "rEO3NDA2lkpo",
        "colab_type": "code",
        "outputId": "69b32c31-a2fe-41b5-c26b-31aea9ce8c8d",
        "colab": {
          "base_uri": "https://localhost:8080/",
          "height": 102
        }
      },
      "cell_type": "code",
      "source": [
        "## TODO: set you model hyperparameters\n",
        "# define and print the net\n",
        "n_hidden= 512\n",
        "n_layers= 2\n",
        "\n",
        "net = CharRNN(chars, n_hidden, n_layers)\n",
        "print(net)"
      ],
      "execution_count": 0,
      "outputs": [
        {
          "output_type": "stream",
          "text": [
            "CharRNN(\n",
            "  (lstm): LSTM(83, 512, num_layers=2, batch_first=True, dropout=0.5)\n",
            "  (dropout): Dropout(p=0.5)\n",
            "  (fc): Linear(in_features=512, out_features=83, bias=True)\n",
            ")\n"
          ],
          "name": "stdout"
        }
      ]
    },
    {
      "metadata": {
        "id": "ZTiZEBG_lkps",
        "colab_type": "text"
      },
      "cell_type": "markdown",
      "source": [
        "### Set your training hyperparameters!"
      ]
    },
    {
      "metadata": {
        "scrolled": true,
        "id": "S1wdcGxOlkps",
        "colab_type": "code",
        "outputId": "6f4366b0-40b6-4f45-926d-ff6fa3342dae",
        "colab": {
          "base_uri": "https://localhost:8080/",
          "height": 4743
        }
      },
      "cell_type": "code",
      "source": [
        "batch_size = 128\n",
        "seq_length = 100\n",
        "n_epochs = 20 # start small if you are just testing initial behavior\n",
        "\n",
        "# train the model\n",
        "train(net, encoded, epochs=n_epochs, batch_size=batch_size, seq_length=seq_length, lr=0.001, print_every=10)"
      ],
      "execution_count": 0,
      "outputs": [
        {
          "output_type": "stream",
          "text": [
            "Epoch: 1/20... Step: 10... Loss: 3.2324... Val Loss: 3.1697\n",
            "Epoch: 1/20... Step: 20... Loss: 3.1452... Val Loss: 3.1309\n",
            "Epoch: 1/20... Step: 30... Loss: 3.1393... Val Loss: 3.1218\n",
            "Epoch: 1/20... Step: 40... Loss: 3.1094... Val Loss: 3.1191\n",
            "Epoch: 1/20... Step: 50... Loss: 3.1439... Val Loss: 3.1174\n",
            "Epoch: 1/20... Step: 60... Loss: 3.1163... Val Loss: 3.1158\n",
            "Epoch: 1/20... Step: 70... Loss: 3.1103... Val Loss: 3.1137\n",
            "Epoch: 1/20... Step: 80... Loss: 3.1196... Val Loss: 3.1090\n",
            "Epoch: 1/20... Step: 90... Loss: 3.1153... Val Loss: 3.0986\n",
            "Epoch: 1/20... Step: 100... Loss: 3.0822... Val Loss: 3.0722\n",
            "Epoch: 1/20... Step: 110... Loss: 3.0498... Val Loss: 3.0218\n",
            "Epoch: 1/20... Step: 120... Loss: 2.9317... Val Loss: 2.9217\n",
            "Epoch: 1/20... Step: 130... Loss: 2.8829... Val Loss: 2.8534\n",
            "Epoch: 2/20... Step: 140... Loss: 2.7981... Val Loss: 2.7524\n",
            "Epoch: 2/20... Step: 150... Loss: 2.7028... Val Loss: 2.6660\n",
            "Epoch: 2/20... Step: 160... Loss: 2.6075... Val Loss: 2.5678\n",
            "Epoch: 2/20... Step: 170... Loss: 2.5212... Val Loss: 2.5125\n",
            "Epoch: 2/20... Step: 180... Loss: 2.4922... Val Loss: 2.4701\n",
            "Epoch: 2/20... Step: 190... Loss: 2.4383... Val Loss: 2.4271\n",
            "Epoch: 2/20... Step: 200... Loss: 2.4246... Val Loss: 2.3985\n",
            "Epoch: 2/20... Step: 210... Loss: 2.4033... Val Loss: 2.3648\n",
            "Epoch: 2/20... Step: 220... Loss: 2.3525... Val Loss: 2.3335\n",
            "Epoch: 2/20... Step: 230... Loss: 2.3348... Val Loss: 2.3056\n",
            "Epoch: 2/20... Step: 240... Loss: 2.3134... Val Loss: 2.2805\n",
            "Epoch: 2/20... Step: 250... Loss: 2.2511... Val Loss: 2.2573\n",
            "Epoch: 2/20... Step: 260... Loss: 2.2281... Val Loss: 2.2260\n",
            "Epoch: 2/20... Step: 270... Loss: 2.2288... Val Loss: 2.2006\n",
            "Epoch: 3/20... Step: 280... Loss: 2.2250... Val Loss: 2.1775\n",
            "Epoch: 3/20... Step: 290... Loss: 2.1878... Val Loss: 2.1532\n",
            "Epoch: 3/20... Step: 300... Loss: 2.1736... Val Loss: 2.1315\n",
            "Epoch: 3/20... Step: 310... Loss: 2.1336... Val Loss: 2.1161\n",
            "Epoch: 3/20... Step: 320... Loss: 2.1054... Val Loss: 2.0893\n",
            "Epoch: 3/20... Step: 330... Loss: 2.0833... Val Loss: 2.0758\n",
            "Epoch: 3/20... Step: 340... Loss: 2.1008... Val Loss: 2.0564\n",
            "Epoch: 3/20... Step: 350... Loss: 2.0868... Val Loss: 2.0391\n",
            "Epoch: 3/20... Step: 360... Loss: 2.0173... Val Loss: 2.0185\n",
            "Epoch: 3/20... Step: 370... Loss: 2.0321... Val Loss: 2.0040\n",
            "Epoch: 3/20... Step: 380... Loss: 2.0126... Val Loss: 1.9896\n",
            "Epoch: 3/20... Step: 390... Loss: 1.9842... Val Loss: 1.9744\n",
            "Epoch: 3/20... Step: 400... Loss: 1.9568... Val Loss: 1.9579\n",
            "Epoch: 3/20... Step: 410... Loss: 1.9730... Val Loss: 1.9464\n",
            "Epoch: 4/20... Step: 420... Loss: 1.9630... Val Loss: 1.9348\n",
            "Epoch: 4/20... Step: 430... Loss: 1.9463... Val Loss: 1.9130\n",
            "Epoch: 4/20... Step: 440... Loss: 1.9304... Val Loss: 1.9031\n",
            "Epoch: 4/20... Step: 450... Loss: 1.8736... Val Loss: 1.8869\n",
            "Epoch: 4/20... Step: 460... Loss: 1.8651... Val Loss: 1.8770\n",
            "Epoch: 4/20... Step: 470... Loss: 1.9021... Val Loss: 1.8702\n",
            "Epoch: 4/20... Step: 480... Loss: 1.8765... Val Loss: 1.8509\n",
            "Epoch: 4/20... Step: 490... Loss: 1.8762... Val Loss: 1.8396\n",
            "Epoch: 4/20... Step: 500... Loss: 1.8737... Val Loss: 1.8289\n",
            "Epoch: 4/20... Step: 510... Loss: 1.8554... Val Loss: 1.8173\n",
            "Epoch: 4/20... Step: 520... Loss: 1.8565... Val Loss: 1.8090\n",
            "Epoch: 4/20... Step: 530... Loss: 1.8189... Val Loss: 1.8004\n",
            "Epoch: 4/20... Step: 540... Loss: 1.7846... Val Loss: 1.7943\n",
            "Epoch: 4/20... Step: 550... Loss: 1.8271... Val Loss: 1.7748\n",
            "Epoch: 5/20... Step: 560... Loss: 1.7947... Val Loss: 1.7685\n",
            "Epoch: 5/20... Step: 570... Loss: 1.7769... Val Loss: 1.7569\n",
            "Epoch: 5/20... Step: 580... Loss: 1.7555... Val Loss: 1.7479\n",
            "Epoch: 5/20... Step: 590... Loss: 1.7615... Val Loss: 1.7370\n",
            "Epoch: 5/20... Step: 600... Loss: 1.7480... Val Loss: 1.7299\n",
            "Epoch: 5/20... Step: 610... Loss: 1.7274... Val Loss: 1.7210\n",
            "Epoch: 5/20... Step: 620... Loss: 1.7264... Val Loss: 1.7171\n",
            "Epoch: 5/20... Step: 630... Loss: 1.7526... Val Loss: 1.7071\n",
            "Epoch: 5/20... Step: 640... Loss: 1.7213... Val Loss: 1.6984\n",
            "Epoch: 5/20... Step: 650... Loss: 1.7071... Val Loss: 1.6912\n",
            "Epoch: 5/20... Step: 660... Loss: 1.6718... Val Loss: 1.6892\n",
            "Epoch: 5/20... Step: 670... Loss: 1.7107... Val Loss: 1.6839\n",
            "Epoch: 5/20... Step: 680... Loss: 1.7006... Val Loss: 1.6708\n",
            "Epoch: 5/20... Step: 690... Loss: 1.6750... Val Loss: 1.6669\n",
            "Epoch: 6/20... Step: 700... Loss: 1.6761... Val Loss: 1.6626\n",
            "Epoch: 6/20... Step: 710... Loss: 1.6620... Val Loss: 1.6559\n",
            "Epoch: 6/20... Step: 720... Loss: 1.6541... Val Loss: 1.6460\n",
            "Epoch: 6/20... Step: 730... Loss: 1.6653... Val Loss: 1.6399\n",
            "Epoch: 6/20... Step: 740... Loss: 1.6352... Val Loss: 1.6365\n",
            "Epoch: 6/20... Step: 750... Loss: 1.6217... Val Loss: 1.6297\n",
            "Epoch: 6/20... Step: 760... Loss: 1.6542... Val Loss: 1.6261\n",
            "Epoch: 6/20... Step: 770... Loss: 1.6380... Val Loss: 1.6209\n",
            "Epoch: 6/20... Step: 780... Loss: 1.6098... Val Loss: 1.6130\n",
            "Epoch: 6/20... Step: 790... Loss: 1.6024... Val Loss: 1.6096\n",
            "Epoch: 6/20... Step: 800... Loss: 1.6225... Val Loss: 1.6060\n",
            "Epoch: 6/20... Step: 810... Loss: 1.6115... Val Loss: 1.6008\n",
            "Epoch: 6/20... Step: 820... Loss: 1.5692... Val Loss: 1.5937\n",
            "Epoch: 6/20... Step: 830... Loss: 1.6201... Val Loss: 1.5908\n",
            "Epoch: 7/20... Step: 840... Loss: 1.5637... Val Loss: 1.5843\n",
            "Epoch: 7/20... Step: 850... Loss: 1.5968... Val Loss: 1.5811\n",
            "Epoch: 7/20... Step: 860... Loss: 1.5654... Val Loss: 1.5748\n",
            "Epoch: 7/20... Step: 870... Loss: 1.5805... Val Loss: 1.5696\n",
            "Epoch: 7/20... Step: 880... Loss: 1.5853... Val Loss: 1.5681\n",
            "Epoch: 7/20... Step: 890... Loss: 1.5754... Val Loss: 1.5624\n",
            "Epoch: 7/20... Step: 900... Loss: 1.5543... Val Loss: 1.5620\n",
            "Epoch: 7/20... Step: 910... Loss: 1.5367... Val Loss: 1.5559\n",
            "Epoch: 7/20... Step: 920... Loss: 1.5534... Val Loss: 1.5486\n",
            "Epoch: 7/20... Step: 930... Loss: 1.5399... Val Loss: 1.5456\n",
            "Epoch: 7/20... Step: 940... Loss: 1.5402... Val Loss: 1.5434\n",
            "Epoch: 7/20... Step: 950... Loss: 1.5546... Val Loss: 1.5375\n",
            "Epoch: 7/20... Step: 960... Loss: 1.5513... Val Loss: 1.5311\n",
            "Epoch: 7/20... Step: 970... Loss: 1.5519... Val Loss: 1.5329\n",
            "Epoch: 8/20... Step: 980... Loss: 1.5299... Val Loss: 1.5326\n",
            "Epoch: 8/20... Step: 990... Loss: 1.5280... Val Loss: 1.5255\n",
            "Epoch: 8/20... Step: 1000... Loss: 1.5309... Val Loss: 1.5190\n",
            "Epoch: 8/20... Step: 1010... Loss: 1.5587... Val Loss: 1.5189\n",
            "Epoch: 8/20... Step: 1020... Loss: 1.5291... Val Loss: 1.5142\n",
            "Epoch: 8/20... Step: 1030... Loss: 1.5186... Val Loss: 1.5118\n",
            "Epoch: 8/20... Step: 1040... Loss: 1.5150... Val Loss: 1.5164\n",
            "Epoch: 8/20... Step: 1050... Loss: 1.5007... Val Loss: 1.5071\n",
            "Epoch: 8/20... Step: 1060... Loss: 1.4981... Val Loss: 1.5043\n",
            "Epoch: 8/20... Step: 1070... Loss: 1.5054... Val Loss: 1.4972\n",
            "Epoch: 8/20... Step: 1080... Loss: 1.5112... Val Loss: 1.4961\n",
            "Epoch: 8/20... Step: 1090... Loss: 1.4843... Val Loss: 1.4891\n",
            "Epoch: 8/20... Step: 1100... Loss: 1.4779... Val Loss: 1.4853\n",
            "Epoch: 8/20... Step: 1110... Loss: 1.4856... Val Loss: 1.4846\n",
            "Epoch: 9/20... Step: 1120... Loss: 1.4984... Val Loss: 1.4858\n",
            "Epoch: 9/20... Step: 1130... Loss: 1.4972... Val Loss: 1.4831\n",
            "Epoch: 9/20... Step: 1140... Loss: 1.4904... Val Loss: 1.4758\n",
            "Epoch: 9/20... Step: 1150... Loss: 1.5014... Val Loss: 1.4764\n",
            "Epoch: 9/20... Step: 1160... Loss: 1.4605... Val Loss: 1.4728\n",
            "Epoch: 9/20... Step: 1170... Loss: 1.4647... Val Loss: 1.4710\n",
            "Epoch: 9/20... Step: 1180... Loss: 1.4698... Val Loss: 1.4698\n",
            "Epoch: 9/20... Step: 1190... Loss: 1.4909... Val Loss: 1.4658\n",
            "Epoch: 9/20... Step: 1200... Loss: 1.4429... Val Loss: 1.4636\n",
            "Epoch: 9/20... Step: 1210... Loss: 1.4534... Val Loss: 1.4601\n",
            "Epoch: 9/20... Step: 1220... Loss: 1.4488... Val Loss: 1.4581\n",
            "Epoch: 9/20... Step: 1230... Loss: 1.4348... Val Loss: 1.4572\n",
            "Epoch: 9/20... Step: 1240... Loss: 1.4420... Val Loss: 1.4533\n",
            "Epoch: 9/20... Step: 1250... Loss: 1.4495... Val Loss: 1.4506\n",
            "Epoch: 10/20... Step: 1260... Loss: 1.4519... Val Loss: 1.4483\n",
            "Epoch: 10/20... Step: 1270... Loss: 1.4463... Val Loss: 1.4437\n",
            "Epoch: 10/20... Step: 1280... Loss: 1.4578... Val Loss: 1.4387\n",
            "Epoch: 10/20... Step: 1290... Loss: 1.4410... Val Loss: 1.4446\n",
            "Epoch: 10/20... Step: 1300... Loss: 1.4322... Val Loss: 1.4414\n",
            "Epoch: 10/20... Step: 1310... Loss: 1.4333... Val Loss: 1.4354\n",
            "Epoch: 10/20... Step: 1320... Loss: 1.4134... Val Loss: 1.4383\n",
            "Epoch: 10/20... Step: 1330... Loss: 1.4131... Val Loss: 1.4304\n",
            "Epoch: 10/20... Step: 1340... Loss: 1.4078... Val Loss: 1.4299\n",
            "Epoch: 10/20... Step: 1350... Loss: 1.3989... Val Loss: 1.4270\n",
            "Epoch: 10/20... Step: 1360... Loss: 1.4048... Val Loss: 1.4274\n",
            "Epoch: 10/20... Step: 1370... Loss: 1.3974... Val Loss: 1.4259\n",
            "Epoch: 10/20... Step: 1380... Loss: 1.4304... Val Loss: 1.4224\n",
            "Epoch: 10/20... Step: 1390... Loss: 1.4387... Val Loss: 1.4198\n",
            "Epoch: 11/20... Step: 1400... Loss: 1.4427... Val Loss: 1.4164\n",
            "Epoch: 11/20... Step: 1410... Loss: 1.4594... Val Loss: 1.4153\n",
            "Epoch: 11/20... Step: 1420... Loss: 1.4376... Val Loss: 1.4108\n",
            "Epoch: 11/20... Step: 1430... Loss: 1.4009... Val Loss: 1.4173\n",
            "Epoch: 11/20... Step: 1440... Loss: 1.4309... Val Loss: 1.4118\n",
            "Epoch: 11/20... Step: 1450... Loss: 1.3570... Val Loss: 1.4115\n",
            "Epoch: 11/20... Step: 1460... Loss: 1.3817... Val Loss: 1.4062\n",
            "Epoch: 11/20... Step: 1470... Loss: 1.3798... Val Loss: 1.4061\n",
            "Epoch: 11/20... Step: 1480... Loss: 1.3964... Val Loss: 1.4026\n",
            "Epoch: 11/20... Step: 1490... Loss: 1.3854... Val Loss: 1.4026\n",
            "Epoch: 11/20... Step: 1500... Loss: 1.3766... Val Loss: 1.4056\n",
            "Epoch: 11/20... Step: 1510... Loss: 1.3646... Val Loss: 1.4015\n",
            "Epoch: 11/20... Step: 1520... Loss: 1.3914... Val Loss: 1.3940\n",
            "Epoch: 12/20... Step: 1530... Loss: 1.4466... Val Loss: 1.3990\n",
            "Epoch: 12/20... Step: 1540... Loss: 1.4031... Val Loss: 1.3959\n",
            "Epoch: 12/20... Step: 1550... Loss: 1.4083... Val Loss: 1.3927\n",
            "Epoch: 12/20... Step: 1560... Loss: 1.4058... Val Loss: 1.3917\n",
            "Epoch: 12/20... Step: 1570... Loss: 1.3562... Val Loss: 1.3933\n",
            "Epoch: 12/20... Step: 1580... Loss: 1.3415... Val Loss: 1.3923\n",
            "Epoch: 12/20... Step: 1590... Loss: 1.3318... Val Loss: 1.3908\n",
            "Epoch: 12/20... Step: 1600... Loss: 1.3666... Val Loss: 1.3896\n",
            "Epoch: 12/20... Step: 1610... Loss: 1.3551... Val Loss: 1.3865\n",
            "Epoch: 12/20... Step: 1620... Loss: 1.3479... Val Loss: 1.3844\n",
            "Epoch: 12/20... Step: 1630... Loss: 1.3700... Val Loss: 1.3859\n",
            "Epoch: 12/20... Step: 1640... Loss: 1.3547... Val Loss: 1.3849\n",
            "Epoch: 12/20... Step: 1650... Loss: 1.3331... Val Loss: 1.3824\n",
            "Epoch: 12/20... Step: 1660... Loss: 1.3842... Val Loss: 1.3778\n",
            "Epoch: 13/20... Step: 1670... Loss: 1.3526... Val Loss: 1.3828\n",
            "Epoch: 13/20... Step: 1680... Loss: 1.3689... Val Loss: 1.3748\n",
            "Epoch: 13/20... Step: 1690... Loss: 1.3428... Val Loss: 1.3760\n",
            "Epoch: 13/20... Step: 1700... Loss: 1.3456... Val Loss: 1.3732\n",
            "Epoch: 13/20... Step: 1710... Loss: 1.3163... Val Loss: 1.3753\n",
            "Epoch: 13/20... Step: 1720... Loss: 1.3371... Val Loss: 1.3749\n",
            "Epoch: 13/20... Step: 1730... Loss: 1.3722... Val Loss: 1.3735\n",
            "Epoch: 13/20... Step: 1740... Loss: 1.3374... Val Loss: 1.3739\n",
            "Epoch: 13/20... Step: 1750... Loss: 1.3097... Val Loss: 1.3705\n",
            "Epoch: 13/20... Step: 1760... Loss: 1.3396... Val Loss: 1.3675\n",
            "Epoch: 13/20... Step: 1770... Loss: 1.3481... Val Loss: 1.3637\n",
            "Epoch: 13/20... Step: 1780... Loss: 1.3284... Val Loss: 1.3671\n",
            "Epoch: 13/20... Step: 1790... Loss: 1.3140... Val Loss: 1.3616\n",
            "Epoch: 13/20... Step: 1800... Loss: 1.3351... Val Loss: 1.3607\n",
            "Epoch: 14/20... Step: 1810... Loss: 1.3403... Val Loss: 1.3643\n",
            "Epoch: 14/20... Step: 1820... Loss: 1.3324... Val Loss: 1.3570\n",
            "Epoch: 14/20... Step: 1830... Loss: 1.3437... Val Loss: 1.3634\n",
            "Epoch: 14/20... Step: 1840... Loss: 1.2846... Val Loss: 1.3645\n",
            "Epoch: 14/20... Step: 1850... Loss: 1.2779... Val Loss: 1.3616\n",
            "Epoch: 14/20... Step: 1860... Loss: 1.3366... Val Loss: 1.3592\n",
            "Epoch: 14/20... Step: 1870... Loss: 1.3417... Val Loss: 1.3570\n",
            "Epoch: 14/20... Step: 1880... Loss: 1.3334... Val Loss: 1.3653\n",
            "Epoch: 14/20... Step: 1890... Loss: 1.3557... Val Loss: 1.3584\n",
            "Epoch: 14/20... Step: 1900... Loss: 1.3298... Val Loss: 1.3559\n",
            "Epoch: 14/20... Step: 1910... Loss: 1.3322... Val Loss: 1.3512\n",
            "Epoch: 14/20... Step: 1920... Loss: 1.3204... Val Loss: 1.3486\n",
            "Epoch: 14/20... Step: 1930... Loss: 1.2895... Val Loss: 1.3494\n",
            "Epoch: 14/20... Step: 1940... Loss: 1.3461... Val Loss: 1.3504\n",
            "Epoch: 15/20... Step: 1950... Loss: 1.3151... Val Loss: 1.3473\n",
            "Epoch: 15/20... Step: 1960... Loss: 1.3193... Val Loss: 1.3442\n",
            "Epoch: 15/20... Step: 1970... Loss: 1.3092... Val Loss: 1.3437\n",
            "Epoch: 15/20... Step: 1980... Loss: 1.2957... Val Loss: 1.3487\n",
            "Epoch: 15/20... Step: 1990... Loss: 1.2913... Val Loss: 1.3476\n",
            "Epoch: 15/20... Step: 2000... Loss: 1.2818... Val Loss: 1.3448\n",
            "Epoch: 15/20... Step: 2010... Loss: 1.3044... Val Loss: 1.3417\n",
            "Epoch: 15/20... Step: 2020... Loss: 1.3254... Val Loss: 1.3473\n",
            "Epoch: 15/20... Step: 2030... Loss: 1.2901... Val Loss: 1.3479\n",
            "Epoch: 15/20... Step: 2040... Loss: 1.3135... Val Loss: 1.3403\n",
            "Epoch: 15/20... Step: 2050... Loss: 1.2958... Val Loss: 1.3405\n",
            "Epoch: 15/20... Step: 2060... Loss: 1.3054... Val Loss: 1.3365\n",
            "Epoch: 15/20... Step: 2070... Loss: 1.3108... Val Loss: 1.3391\n",
            "Epoch: 15/20... Step: 2080... Loss: 1.3029... Val Loss: 1.3352\n",
            "Epoch: 16/20... Step: 2090... Loss: 1.3017... Val Loss: 1.3357\n",
            "Epoch: 16/20... Step: 2100... Loss: 1.2933... Val Loss: 1.3320\n",
            "Epoch: 16/20... Step: 2110... Loss: 1.2797... Val Loss: 1.3352\n",
            "Epoch: 16/20... Step: 2120... Loss: 1.2942... Val Loss: 1.3389\n",
            "Epoch: 16/20... Step: 2130... Loss: 1.2727... Val Loss: 1.3350\n",
            "Epoch: 16/20... Step: 2140... Loss: 1.2819... Val Loss: 1.3307\n",
            "Epoch: 16/20... Step: 2150... Loss: 1.3067... Val Loss: 1.3298\n",
            "Epoch: 16/20... Step: 2160... Loss: 1.2881... Val Loss: 1.3365\n",
            "Epoch: 16/20... Step: 2170... Loss: 1.2815... Val Loss: 1.3328\n",
            "Epoch: 16/20... Step: 2180... Loss: 1.2760... Val Loss: 1.3264\n",
            "Epoch: 16/20... Step: 2190... Loss: 1.3031... Val Loss: 1.3268\n",
            "Epoch: 16/20... Step: 2200... Loss: 1.2717... Val Loss: 1.3263\n",
            "Epoch: 16/20... Step: 2210... Loss: 1.2404... Val Loss: 1.3272\n",
            "Epoch: 16/20... Step: 2220... Loss: 1.2826... Val Loss: 1.3258\n",
            "Epoch: 17/20... Step: 2230... Loss: 1.2646... Val Loss: 1.3252\n",
            "Epoch: 17/20... Step: 2240... Loss: 1.2681... Val Loss: 1.3276\n",
            "Epoch: 17/20... Step: 2250... Loss: 1.2571... Val Loss: 1.3276\n",
            "Epoch: 17/20... Step: 2260... Loss: 1.2659... Val Loss: 1.3252\n",
            "Epoch: 17/20... Step: 2270... Loss: 1.2734... Val Loss: 1.3269\n",
            "Epoch: 17/20... Step: 2280... Loss: 1.2789... Val Loss: 1.3227\n",
            "Epoch: 17/20... Step: 2290... Loss: 1.2757... Val Loss: 1.3237\n",
            "Epoch: 17/20... Step: 2300... Loss: 1.2385... Val Loss: 1.3216\n",
            "Epoch: 17/20... Step: 2310... Loss: 1.2660... Val Loss: 1.3221\n",
            "Epoch: 17/20... Step: 2320... Loss: 1.2581... Val Loss: 1.3193\n",
            "Epoch: 17/20... Step: 2330... Loss: 1.2540... Val Loss: 1.3154\n",
            "Epoch: 17/20... Step: 2340... Loss: 1.2748... Val Loss: 1.3195\n",
            "Epoch: 17/20... Step: 2350... Loss: 1.2741... Val Loss: 1.3157\n",
            "Epoch: 17/20... Step: 2360... Loss: 1.2886... Val Loss: 1.3154\n",
            "Epoch: 18/20... Step: 2370... Loss: 1.2467... Val Loss: 1.3217\n",
            "Epoch: 18/20... Step: 2380... Loss: 1.2595... Val Loss: 1.3169\n",
            "Epoch: 18/20... Step: 2390... Loss: 1.2558... Val Loss: 1.3209\n",
            "Epoch: 18/20... Step: 2400... Loss: 1.2926... Val Loss: 1.3179\n",
            "Epoch: 18/20... Step: 2410... Loss: 1.2722... Val Loss: 1.3206\n",
            "Epoch: 18/20... Step: 2420... Loss: 1.2674... Val Loss: 1.3148\n",
            "Epoch: 18/20... Step: 2430... Loss: 1.2716... Val Loss: 1.3186\n",
            "Epoch: 18/20... Step: 2440... Loss: 1.2563... Val Loss: 1.3169\n",
            "Epoch: 18/20... Step: 2450... Loss: 1.2521... Val Loss: 1.3186\n",
            "Epoch: 18/20... Step: 2460... Loss: 1.2686... Val Loss: 1.3191\n",
            "Epoch: 18/20... Step: 2470... Loss: 1.2581... Val Loss: 1.3144\n",
            "Epoch: 18/20... Step: 2480... Loss: 1.2436... Val Loss: 1.3090\n",
            "Epoch: 18/20... Step: 2490... Loss: 1.2378... Val Loss: 1.3102\n",
            "Epoch: 18/20... Step: 2500... Loss: 1.2428... Val Loss: 1.3112\n",
            "Epoch: 19/20... Step: 2510... Loss: 1.2497... Val Loss: 1.3086\n",
            "Epoch: 19/20... Step: 2520... Loss: 1.2601... Val Loss: 1.3123\n",
            "Epoch: 19/20... Step: 2530... Loss: 1.2611... Val Loss: 1.3115\n",
            "Epoch: 19/20... Step: 2540... Loss: 1.2735... Val Loss: 1.3106\n",
            "Epoch: 19/20... Step: 2550... Loss: 1.2435... Val Loss: 1.3108\n",
            "Epoch: 19/20... Step: 2560... Loss: 1.2519... Val Loss: 1.3061\n",
            "Epoch: 19/20... Step: 2570... Loss: 1.2359... Val Loss: 1.3070\n",
            "Epoch: 19/20... Step: 2580... Loss: 1.2673... Val Loss: 1.3079\n",
            "Epoch: 19/20... Step: 2590... Loss: 1.2327... Val Loss: 1.3073\n",
            "Epoch: 19/20... Step: 2600... Loss: 1.2307... Val Loss: 1.3084\n",
            "Epoch: 19/20... Step: 2610... Loss: 1.2424... Val Loss: 1.3083\n",
            "Epoch: 19/20... Step: 2620... Loss: 1.2265... Val Loss: 1.3053\n",
            "Epoch: 19/20... Step: 2630... Loss: 1.2340... Val Loss: 1.3005\n",
            "Epoch: 19/20... Step: 2640... Loss: 1.2484... Val Loss: 1.3030\n",
            "Epoch: 20/20... Step: 2650... Loss: 1.2437... Val Loss: 1.3056\n",
            "Epoch: 20/20... Step: 2660... Loss: 1.2483... Val Loss: 1.3066\n",
            "Epoch: 20/20... Step: 2670... Loss: 1.2531... Val Loss: 1.3047\n",
            "Epoch: 20/20... Step: 2680... Loss: 1.2535... Val Loss: 1.3021\n",
            "Epoch: 20/20... Step: 2690... Loss: 1.2388... Val Loss: 1.3077\n",
            "Epoch: 20/20... Step: 2700... Loss: 1.2410... Val Loss: 1.3023\n",
            "Epoch: 20/20... Step: 2710... Loss: 1.2140... Val Loss: 1.3010\n",
            "Epoch: 20/20... Step: 2720... Loss: 1.2119... Val Loss: 1.3008\n",
            "Epoch: 20/20... Step: 2730... Loss: 1.2030... Val Loss: 1.3029\n",
            "Epoch: 20/20... Step: 2740... Loss: 1.2129... Val Loss: 1.2983\n",
            "Epoch: 20/20... Step: 2750... Loss: 1.2283... Val Loss: 1.2999\n",
            "Epoch: 20/20... Step: 2760... Loss: 1.2161... Val Loss: 1.2996\n",
            "Epoch: 20/20... Step: 2770... Loss: 1.2488... Val Loss: 1.2979\n",
            "Epoch: 20/20... Step: 2780... Loss: 1.2730... Val Loss: 1.2971\n"
          ],
          "name": "stdout"
        }
      ]
    },
    {
      "metadata": {
        "id": "k5If6nSflkpw",
        "colab_type": "text"
      },
      "cell_type": "markdown",
      "source": [
        "## Getting the best model\n",
        "\n",
        "To set your hyperparameters to get the best performance, you'll want to watch the training and validation losses. If your training loss is much lower than the validation loss, you're overfitting. Increase regularization (more dropout) or use a smaller network. If the training and validation losses are close, you're underfitting so you can increase the size of the network."
      ]
    },
    {
      "metadata": {
        "id": "krAmaa9Elkpy",
        "colab_type": "text"
      },
      "cell_type": "markdown",
      "source": [
        "## Hyperparameters\n",
        "\n",
        "Here are the hyperparameters for the network.\n",
        "\n",
        "In defining the model:\n",
        "* `n_hidden` - The number of units in the hidden layers.\n",
        "* `n_layers` - Number of hidden LSTM layers to use.\n",
        "\n",
        "We assume that dropout probability and learning rate will be kept at the default, in this example.\n",
        "\n",
        "And in training:\n",
        "* `batch_size` - Number of sequences running through the network in one pass.\n",
        "* `seq_length` - Number of characters in the sequence the network is trained on. Larger is better typically, the network will learn more long range dependencies. But it takes longer to train. 100 is typically a good number here.\n",
        "* `lr` - Learning rate for training\n",
        "\n",
        "Here's some good advice from Andrej Karpathy on training the network. I'm going to copy it in here for your benefit, but also link to [where it originally came from](https://github.com/karpathy/char-rnn#tips-and-tricks).\n",
        "\n",
        "> ## Tips and Tricks\n",
        "\n",
        ">### Monitoring Validation Loss vs. Training Loss\n",
        ">If you're somewhat new to Machine Learning or Neural Networks it can take a bit of expertise to get good models. The most important quantity to keep track of is the difference between your training loss (printed during training) and the validation loss (printed once in a while when the RNN is run on the validation data (by default every 1000 iterations)). In particular:\n",
        "\n",
        "> - If your training loss is much lower than validation loss then this means the network might be **overfitting**. Solutions to this are to decrease your network size, or to increase dropout. For example you could try dropout of 0.5 and so on.\n",
        "> - If your training/validation loss are about equal then your model is **underfitting**. Increase the size of your model (either number of layers or the raw number of neurons per layer)\n",
        "\n",
        "> ### Approximate number of parameters\n",
        "\n",
        "> The two most important parameters that control the model are `n_hidden` and `n_layers`. I would advise that you always use `n_layers` of either 2/3. The `n_hidden` can be adjusted based on how much data you have. The two important quantities to keep track of here are:\n",
        "\n",
        "> - The number of parameters in your model. This is printed when you start training.\n",
        "> - The size of your dataset. 1MB file is approximately 1 million characters.\n",
        "\n",
        ">These two should be about the same order of magnitude. It's a little tricky to tell. Here are some examples:\n",
        "\n",
        "> - I have a 100MB dataset and I'm using the default parameter settings (which currently print 150K parameters). My data size is significantly larger (100 mil >> 0.15 mil), so I expect to heavily underfit. I am thinking I can comfortably afford to make `n_hidden` larger.\n",
        "> - I have a 10MB dataset and running a 10 million parameter model. I'm slightly nervous and I'm carefully monitoring my validation loss. If it's larger than my training loss then I may want to try to increase dropout a bit and see if that helps the validation loss.\n",
        "\n",
        "> ### Best models strategy\n",
        "\n",
        ">The winning strategy to obtaining very good models (if you have the compute time) is to always err on making the network larger (as large as you're willing to wait for it to compute) and then try different dropout values (between 0,1). Whatever model has the best validation performance (the loss, written in the checkpoint filename, low is good) is the one you should use in the end.\n",
        "\n",
        ">It is very common in deep learning to run many different models with many different hyperparameter settings, and in the end take whatever checkpoint gave the best validation performance.\n",
        "\n",
        ">By the way, the size of your training and validation splits are also parameters. Make sure you have a decent amount of data in your validation set or otherwise the validation performance will be noisy and not very informative."
      ]
    },
    {
      "metadata": {
        "id": "OmKes1qBlkpy",
        "colab_type": "text"
      },
      "cell_type": "markdown",
      "source": [
        "## Checkpoint\n",
        "\n",
        "After training, we'll save the model so we can load it again later if we need too. Here I'm saving the parameters needed to create the same architecture, the hidden layer hyperparameters and the text characters."
      ]
    },
    {
      "metadata": {
        "id": "y_J3J1SLlkp0",
        "colab_type": "code",
        "colab": {}
      },
      "cell_type": "code",
      "source": [
        "# change the name, for saving multiple files\n",
        "model_name = 'rnn_x_epoch.net'\n",
        "\n",
        "checkpoint = {'n_hidden': net.n_hidden,\n",
        "              'n_layers': net.n_layers,\n",
        "              'state_dict': net.state_dict(),\n",
        "              'tokens': net.chars}\n",
        "\n",
        "with open(model_name, 'wb') as f:\n",
        "    torch.save(checkpoint, f)"
      ],
      "execution_count": 0,
      "outputs": []
    },
    {
      "metadata": {
        "id": "KA7oEd4qlkp4",
        "colab_type": "text"
      },
      "cell_type": "markdown",
      "source": [
        "---\n",
        "## Making Predictions\n",
        "\n",
        "Now that the model is trained, we'll want to sample from it and make predictions about next characters! To sample, we pass in a character and have the network predict the next character. Then we take that character, pass it back in, and get another predicted character. Just keep doing this and you'll generate a bunch of text!\n",
        "\n",
        "### A note on the `predict`  function\n",
        "\n",
        "The output of our RNN is from a fully-connected layer and it outputs a **distribution of next-character scores**.\n",
        "\n",
        "> To actually get the next character, we apply a softmax function, which gives us a *probability* distribution that we can then sample to predict the next character.\n",
        "\n",
        "### Top K sampling\n",
        "\n",
        "Our predictions come from a categorical probability distribution over all the possible characters. We can make the sample text and make it more reasonable to handle (with less variables) by only considering some $K$ most probable characters. This will prevent the network from giving us completely absurd characters while allowing it to introduce some noise and randomness into the sampled text. Read more about [topk, here](https://pytorch.org/docs/stable/torch.html#torch.topk).\n"
      ]
    },
    {
      "metadata": {
        "id": "g8wGqYvjlkp6",
        "colab_type": "code",
        "colab": {}
      },
      "cell_type": "code",
      "source": [
        "def predict(net, char, h=None, top_k=None):\n",
        "        ''' Given a character, predict the next character.\n",
        "            Returns the predicted character and the hidden state.\n",
        "        '''\n",
        "        \n",
        "        # tensor inputs\n",
        "        x = np.array([[net.char2int[char]]])\n",
        "        x = one_hot_encode(x, len(net.chars))\n",
        "        inputs = torch.from_numpy(x)\n",
        "        \n",
        "        if(train_on_gpu):\n",
        "            inputs = inputs.cuda()\n",
        "        \n",
        "        # detach hidden state from history\n",
        "        h = tuple([each.data for each in h])\n",
        "        # get the output of the model\n",
        "        out, h = net(inputs, h)\n",
        "\n",
        "        # get the character probabilities\n",
        "        p = F.softmax(out, dim=1).data\n",
        "        if(train_on_gpu):\n",
        "            p = p.cpu() # move to cpu\n",
        "        \n",
        "        # get top characters\n",
        "        if top_k is None:\n",
        "            top_ch = np.arange(len(net.chars))\n",
        "        else:\n",
        "            p, top_ch = p.topk(top_k)\n",
        "            top_ch = top_ch.numpy().squeeze()\n",
        "        \n",
        "        # select the likely next character with some element of randomness\n",
        "        p = p.numpy().squeeze()\n",
        "        char = np.random.choice(top_ch, p=p/p.sum())\n",
        "        \n",
        "        # return the encoded value of the predicted char and the hidden state\n",
        "        return net.int2char[char], h"
      ],
      "execution_count": 0,
      "outputs": []
    },
    {
      "metadata": {
        "id": "ER0Y4yrIlkp-",
        "colab_type": "text"
      },
      "cell_type": "markdown",
      "source": [
        "### Priming and generating text \n",
        "\n",
        "Typically you'll want to prime the network so you can build up a hidden state. Otherwise the network will start out generating characters at random. In general the first bunch of characters will be a little rough since it hasn't built up a long history of characters to predict from."
      ]
    },
    {
      "metadata": {
        "id": "Y3Huy7A-lkp_",
        "colab_type": "code",
        "colab": {}
      },
      "cell_type": "code",
      "source": [
        "def sample(net, size, prime='The', top_k=None):\n",
        "        \n",
        "    if(train_on_gpu):\n",
        "        net.cuda()\n",
        "    else:\n",
        "        net.cpu()\n",
        "    \n",
        "    net.eval() # eval mode\n",
        "    \n",
        "    # First off, run through the prime characters\n",
        "    chars = [ch for ch in prime]\n",
        "    h = net.init_hidden(1)\n",
        "    for ch in prime:\n",
        "        char, h = predict(net, ch, h, top_k=top_k)\n",
        "\n",
        "    chars.append(char)\n",
        "    \n",
        "    # Now pass in the previous character and get a new one\n",
        "    for ii in range(size):\n",
        "        char, h = predict(net, chars[-1], h, top_k=top_k)\n",
        "        chars.append(char)\n",
        "\n",
        "    return ''.join(chars)"
      ],
      "execution_count": 0,
      "outputs": []
    },
    {
      "metadata": {
        "id": "eFM0TowXlkqJ",
        "colab_type": "code",
        "outputId": "8fd17421-89ec-432a-82ec-5b6e0e3500cd",
        "colab": {
          "base_uri": "https://localhost:8080/",
          "height": 289
        }
      },
      "cell_type": "code",
      "source": [
        "print(sample(net, 1000, prime='Who', top_k=5))"
      ],
      "execution_count": 0,
      "outputs": [
        {
          "output_type": "stream",
          "text": [
            "Whold out of the straight on such a composing came. He could not\n",
            "spoot her to take hard over the porce shrowl his hat, streid op the mare.\n",
            "\n",
            "\"I shall never great this weekn. And what a party was in\n",
            "the mistalk in a ceaser with the faces of strange.\"\n",
            "\n",
            "\"Yes, it seems on you. And that there were them. And it's only one. Here. I have nothing to both time to believe,\" said the\n",
            "carriage. \"I'm not a little. I can't be that this confusion that was a corrider and stupir and her,\" he said to him.\n",
            "\n",
            "She sent the children he could never come in. The significance that had not a conversation\n",
            "out of the meminism, and so so in a solumation that he was starting that it, and though a steps of the conversation with the passest.\n",
            "\n",
            "Sergey Ivanovitch has seeming to his way, and would not\n",
            "listen between some merchent, when he had not asked him. She felt himself in a bottle about her at the\n",
            "province was sitting in which sounded all this acquainted at the deal. But his brother, too husband, and saw\n",
            "that she should be\n"
          ],
          "name": "stdout"
        }
      ]
    },
    {
      "metadata": {
        "id": "MWZaVi61lkqN",
        "colab_type": "text"
      },
      "cell_type": "markdown",
      "source": [
        "## Loading a checkpoint"
      ]
    },
    {
      "metadata": {
        "id": "6SjI_mZplkqO",
        "colab_type": "code",
        "colab": {}
      },
      "cell_type": "code",
      "source": [
        "# Here we have loaded in a model that trained over 20 epochs `rnn_20_epoch.net`\n",
        "with open('rnn_x_epoch.net', 'rb') as f:\n",
        "    checkpoint = torch.load(f)\n",
        "    \n",
        "loaded = CharRNN(checkpoint['tokens'], n_hidden=checkpoint['n_hidden'], n_layers=checkpoint['n_layers'])\n",
        "loaded.load_state_dict(checkpoint['state_dict'])"
      ],
      "execution_count": 0,
      "outputs": []
    },
    {
      "metadata": {
        "id": "UuHxhVGglkqR",
        "colab_type": "code",
        "outputId": "57ddcdd6-ed6e-4bd6-90f9-54090e2b2eef",
        "colab": {
          "base_uri": "https://localhost:8080/",
          "height": 850
        }
      },
      "cell_type": "code",
      "source": [
        "# Sample using a loaded model\n",
        "print(sample(loaded, 2000, top_k=5, prime=\"Man\"))"
      ],
      "execution_count": 0,
      "outputs": [
        {
          "output_type": "stream",
          "text": [
            "Mand Thes with the same as the menial\n",
            "provasion of his fingers. And at\n",
            "the countess to the countess, the simple, and with the minutes of happiness with the ploughed.\n",
            "\n",
            "At a marshal was how so money to the back of the corridor, and the\n",
            "person was nearer than them to the bott painting\n",
            "with him.\n",
            "\n",
            "\"You know him,\" said Seryozha, and so as he had the same thing, she would have been told him\n",
            "about it as the\n",
            "character of an aches.\n",
            "\n",
            "\"If it would be\n",
            "taking the concert, and here it would be in the children, and I'm not to go on something.\"\n",
            "\n",
            "\"No, you're not tears to her,. Whether the women it submers what I have nothing but in my wife.\" He would have liked tell her\n",
            "for a minute. \"I'm not to confess.\"\n",
            "\n",
            "\"No, that you must be interested and saying to her.\"\n",
            "\n",
            "Alexey\n",
            "Alexandrovitch came out of her.\n",
            "\n",
            "\"Yes that, as\n",
            "you all before me. It's not a silence that I wanted to stand of a little fealful\n",
            "supers. I have no oping\n",
            "of the from the storm of a stranger, we are so at to\n",
            "the bare of mind when he would be delightful\n",
            "to the music subjects,\" thought Anna's\n",
            "face and his hostess woman.\n",
            "\n",
            "\"I could not tin to be\n",
            "able to be at tea, and I'm going on, and sincere, I'll go into\n",
            "that second of their conversation offerias of all them. We all so said the little side of a minute. He's anything to talk about you,\" the condition was no longing and\n",
            "called, would stood at the side of the\n",
            "straight to\n",
            "him. He saw the\n",
            "side, and\n",
            "she felt that he heard the\n",
            "point of the pain the same thing with his feeling.\n",
            "\n",
            "\"Why, though you were this sonishing?\"\n",
            "\n",
            "The sight of the same stations, and wife the possible ones of his face who was sitting on the same and the point, with\n",
            "a foreates of his state, and answered the presone of\n",
            "the conscairt of which this saying he was sort, as though in his\n",
            "sister, and with an old princess had not been for the peasants in which she had been a confidunce and their head, and taking the same\n",
            "table. The sight was so that she would have been surposed into the\n",
            "carriage of her and heart, and was all t\n"
          ],
          "name": "stdout"
        }
      ]
    },
    {
      "metadata": {
        "id": "cPBtX8HalkqU",
        "colab_type": "code",
        "colab": {}
      },
      "cell_type": "code",
      "source": [
        ""
      ],
      "execution_count": 0,
      "outputs": []
    }
  ]
}