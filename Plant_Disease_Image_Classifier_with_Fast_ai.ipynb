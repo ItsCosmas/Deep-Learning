{
  "nbformat": 4,
  "nbformat_minor": 0,
  "metadata": {
    "colab": {
      "name": "Plant Disease Image Classifier with Fast.ai",
      "version": "0.3.2",
      "provenance": [],
      "collapsed_sections": [],
      "toc_visible": true,
      "include_colab_link": true
    },
    "kernelspec": {
      "name": "python3",
      "display_name": "Python 3"
    },
    "accelerator": "GPU"
  },
  "cells": [
    {
      "cell_type": "markdown",
      "metadata": {
        "id": "view-in-github",
        "colab_type": "text"
      },
      "source": [
        "<a href=\"https://colab.research.google.com/github/KenyanGeek/Deep-Learning/blob/master/Plant_Disease_Image_Classifier_with_Fast_ai.ipynb\" target=\"_parent\"><img src=\"https://colab.research.google.com/assets/colab-badge.svg\" alt=\"Open In Colab\"/></a>"
      ]
    },
    {
      "metadata": {
        "id": "LkJfDsVF1CPN",
        "colab_type": "text"
      },
      "cell_type": "markdown",
      "source": [
        "## Plant Disease Image classification with Convolutional Neural Networks"
      ]
    },
    {
      "metadata": {
        "id": "mmRYXQDP1CPR",
        "colab_type": "text"
      },
      "cell_type": "markdown",
      "source": [
        "Here i'll use the plant village dataset to train a model upto 97% accuracy"
      ]
    },
    {
      "metadata": {
        "id": "ER_swLsJ1CPV",
        "colab_type": "code",
        "colab": {}
      },
      "cell_type": "code",
      "source": [
        "# Put these at the top of every notebook, to get automatic reloading and inline plotting\n",
        "%reload_ext autoreload\n",
        "%autoreload 2\n",
        "%matplotlib inline"
      ],
      "execution_count": 0,
      "outputs": []
    },
    {
      "metadata": {
        "id": "iumVrpqKLhY4",
        "colab_type": "code",
        "colab": {}
      },
      "cell_type": "code",
      "source": [
        "!pip install fastai==0.7.0\n",
        "\n",
        "!pip3 install http://download.pytorch.org/whl/cu80/torch-0.3.1.post4-cp36-cp36m-linux_x86_64.whl \n",
        "!pip3 install torchvision\n",
        "\n",
        "!apt-get -qq install -y libsm6 libxext6 && pip install -q -U opencv-python\n",
        "import cv2\n",
        "from os import path\n",
        "from wheel.pep425tags import get_abbr_impl, get_impl_ver, get_abi_tag\n",
        "platform = '{}{}-{}'.format(get_abbr_impl(), get_impl_ver(), get_abi_tag())\n",
        "accelerator = 'cu80' if path.exists('/opt/bin/nvidia-smi') else 'cpu'\n",
        "!pip install --upgrade pip\n",
        "#!pip install -q http://download.pytorch.org/whl/{accelerator}/torch-0.3.0.post4-{platform}-linux_x86_64.whl torchvision\n",
        "!pip uninstall -q http://download.pytorch.org/whl/{accelerator}/torch-0.3.0.post4-{platform}-linux_x86_64.whl torchvision\n",
        "#!pip install -q http://download.pytorch.org/whl/cu80/torch-0.3.1-cp36-cp36m-linux_x86_64.whl torchvision\n",
        "#!pip install -q http://download.pytorch.org/whl/{accelerator}/torch-0.2.0.post3-cp36-cp36m-manylinux1_x86_64.whl\n",
        "!pip install -q http://download.pytorch.org/whl/{accelerator}/torch-0.3.1-{platform}-linux_x86_64.whl torchvision\n",
        "  \n",
        "from torch import * \n",
        "!pip install Pillow==4.1.1\n",
        "!pip install image\n",
        "%matplotlib inline\n",
        "from fastai.imports import *\n",
        "\n",
        "!pip install \"torchtext==0.2.3\"\n",
        "\n",
        "\n",
        "from fastai.imports import *\n",
        "from fastai.transforms import *\n",
        "from fastai.conv_learner import *\n",
        "from fastai.model import *\n",
        "from fastai.dataset import *\n",
        "from fastai.sgdr import *\n",
        "from fastai.plots import *\n",
        "\n",
        "torch.cuda.is_available()\n",
        "torch.backends.cudnn.enabled\n",
        "\n"
      ],
      "execution_count": 0,
      "outputs": []
    },
    {
      "metadata": {
        "id": "LFslmTFl1CPq",
        "colab_type": "text"
      },
      "cell_type": "markdown",
      "source": [
        "`PATH` is the path to your data - if you use the recommended setup approaches from the lesson, you won't need to change this. `sz` is the size that the images will be resized to in order to ensure that the training runs quickly. We'll be talking about this parameter a lot during the course. Leave it at `224` for now."
      ]
    },
    {
      "metadata": {
        "id": "es7QBL-Z1CPs",
        "colab_type": "code",
        "colab": {}
      },
      "cell_type": "code",
      "source": [
        "sz=224"
      ],
      "execution_count": 0,
      "outputs": []
    },
    {
      "metadata": {
        "id": "Av2b6hnZ1CP_",
        "colab_type": "text"
      },
      "cell_type": "markdown",
      "source": [
        "### Downloading your Data from Fast.ai\n"
      ]
    },
    {
      "metadata": {
        "id": "Q1iUdBD41CQA",
        "colab_type": "text"
      },
      "cell_type": "markdown",
      "source": [
        "\n",
        "\n",
        "```\n",
        "# This is formatted as code\n",
        "```\n",
        "\n",
        "The dataset is made available by grabbing the wget link from the curl-wget chrome extension!\n"
      ]
    },
    {
      "metadata": {
        "id": "xug1u5-B-B-Q",
        "colab_type": "code",
        "outputId": "e45cb239-32d4-4b09-9727-13cdbb17f91d",
        "colab": {
          "base_uri": "https://localhost:8080/",
          "height": 222
        }
      },
      "cell_type": "code",
      "source": [
        "!wget --header=\"Host: storage.googleapis.com\" --header=\"User-Agent: Mozilla/5.0 (Windows NT 10.0; Win64; x64) AppleWebKit/537.36 (KHTML, like Gecko) Chrome/71.0.3578.98 Safari/537.36\" --header=\"Accept: text/html,application/xhtml+xml,application/xml;q=0.9,image/webp,image/apng,*/*;q=0.8\" --header=\"Accept-Language: en-US,en;q=0.9\" --header=\"Referer: https://www.kaggle.com/\" \"https://storage.googleapis.com/kaggle-datasets/96909/226817/plant-village-github.zip?GoogleAccessId=web-data@kaggle-161607.iam.gserviceaccount.com&Expires=1547537907&Signature=ruqCZaSKwtVCKvbKcNruWP7vf7Nui%2FbVi9mdButBwZgAQ3ijdKjHkf%2BEaXw8Zn%2Fa%2FCpNFHJ6660yLv35wjneoUJEEdp1M7ZK59mZ0X1tAaMwg9EbNoWqV2cL7vAvGvQl%2Brn0sZ%2B8chNe6xdcCVHtaAYowsr5JqleKHlUsP4KXg%2FnV6BuP2GxQ6R1yhjswBlgJMDa%2BJeIP%2BoAfjvJqPepIU%2BfTt5TaLNuJSudCOxkSB4zdeutDT1iU3dL%2FN7Nnb1SvMW2gY%2FRj2lIZeiyWeEmX1iyMRWXrtVftASDgiHyGH0b%2FTHS8kSzBW8JM9sQBxG7YFd7C45cnjEA2yfbtXS13g%3D%3D\" -O \"plant-village-github.zip\" -c\n"
      ],
      "execution_count": 15,
      "outputs": [
        {
          "output_type": "stream",
          "text": [
            "--2019-01-12 07:39:01--  https://storage.googleapis.com/kaggle-datasets/96909/226817/plant-village-github.zip?GoogleAccessId=web-data@kaggle-161607.iam.gserviceaccount.com&Expires=1547537907&Signature=ruqCZaSKwtVCKvbKcNruWP7vf7Nui%2FbVi9mdButBwZgAQ3ijdKjHkf%2BEaXw8Zn%2Fa%2FCpNFHJ6660yLv35wjneoUJEEdp1M7ZK59mZ0X1tAaMwg9EbNoWqV2cL7vAvGvQl%2Brn0sZ%2B8chNe6xdcCVHtaAYowsr5JqleKHlUsP4KXg%2FnV6BuP2GxQ6R1yhjswBlgJMDa%2BJeIP%2BoAfjvJqPepIU%2BfTt5TaLNuJSudCOxkSB4zdeutDT1iU3dL%2FN7Nnb1SvMW2gY%2FRj2lIZeiyWeEmX1iyMRWXrtVftASDgiHyGH0b%2FTHS8kSzBW8JM9sQBxG7YFd7C45cnjEA2yfbtXS13g%3D%3D\n",
            "Resolving storage.googleapis.com (storage.googleapis.com)... 74.125.206.128, 2a00:1450:400c:c04::80\n",
            "Connecting to storage.googleapis.com (storage.googleapis.com)|74.125.206.128|:443... connected.\n",
            "HTTP request sent, awaiting response... 200 OK\n",
            "Length: 2507739148 (2.3G) [application/zip]\n",
            "Saving to: ‘plant-village-github.zip’\n",
            "\n",
            "plant-village-githu 100%[===================>]   2.33G  71.5MB/s    in 38s     \n",
            "\n",
            "2019-01-12 07:39:39 (63.6 MB/s) - ‘plant-village-github.zip’ saved [2507739148/2507739148]\n",
            "\n"
          ],
          "name": "stdout"
        }
      ]
    },
    {
      "metadata": {
        "id": "LclMOtIR_vCg",
        "colab_type": "code",
        "colab": {}
      },
      "cell_type": "code",
      "source": [
        "\n",
        "!unzip plant-village-github.zip"
      ],
      "execution_count": 0,
      "outputs": []
    },
    {
      "metadata": {
        "id": "O4aOp0LNc5OD",
        "colab_type": "text"
      },
      "cell_type": "markdown",
      "source": [
        "Here i change the original directory names to some readable name"
      ]
    },
    {
      "metadata": {
        "id": "2UDGfooUIqwU",
        "colab_type": "code",
        "colab": {}
      },
      "cell_type": "code",
      "source": [
        "!mv \"spMohanty-PlantVillage-Dataset-442d23a\" \"data\""
      ],
      "execution_count": 0,
      "outputs": []
    },
    {
      "metadata": {
        "id": "aaLfVvl1Juu4",
        "colab_type": "code",
        "colab": {}
      },
      "cell_type": "code",
      "source": [
        "!mv \"data/data_distribution_for_SVM/test\" \"data/data_distribution_for_SVM/valid\""
      ],
      "execution_count": 0,
      "outputs": []
    },
    {
      "metadata": {
        "id": "tYo4AA_TCCqL",
        "colab_type": "code",
        "colab": {}
      },
      "cell_type": "code",
      "source": [
        "PATH = 'data/data_distribution_for_SVM'"
      ],
      "execution_count": 0,
      "outputs": []
    },
    {
      "metadata": {
        "id": "7ZC9i9oP1CQR",
        "colab_type": "text"
      },
      "cell_type": "markdown",
      "source": [
        "## First look at the Leaf pictures"
      ]
    },
    {
      "metadata": {
        "id": "PjNECiql1CQT",
        "colab_type": "text"
      },
      "cell_type": "markdown",
      "source": [
        "Our library will assume that you have *train* and *valid* directories. It also assumes that each dir will have subdirs for each class you wish to recognize (in this case, 'cats' and 'dogs')."
      ]
    },
    {
      "metadata": {
        "id": "jg5TpKv81CQV",
        "colab_type": "code",
        "outputId": "f29ac96a-bb20-4b97-bed6-219967e5979c",
        "colab": {
          "base_uri": "https://localhost:8080/",
          "height": 34
        }
      },
      "cell_type": "code",
      "source": [
        "os.listdir(PATH)"
      ],
      "execution_count": 52,
      "outputs": [
        {
          "output_type": "execute_result",
          "data": {
            "text/plain": [
              "['train', 'test_mapping.txt', 'train_mapping.txt', 'valid']"
            ]
          },
          "metadata": {
            "tags": []
          },
          "execution_count": 52
        }
      ]
    },
    {
      "metadata": {
        "id": "2u0WjiiS1CQf",
        "colab_type": "code",
        "outputId": "5a87c60c-fc96-4385-c691-4b99ced56d5c",
        "colab": {
          "base_uri": "https://localhost:8080/",
          "height": 655
        }
      },
      "cell_type": "code",
      "source": [
        "os.listdir(f'{PATH}/valid')"
      ],
      "execution_count": 53,
      "outputs": [
        {
          "output_type": "execute_result",
          "data": {
            "text/plain": [
              "['18',\n",
              " '28',\n",
              " '7',\n",
              " '29',\n",
              " '27',\n",
              " '30',\n",
              " '34',\n",
              " '36',\n",
              " '22',\n",
              " '15',\n",
              " '9',\n",
              " '17',\n",
              " '0',\n",
              " '25',\n",
              " '13',\n",
              " '32',\n",
              " '4',\n",
              " '31',\n",
              " '10',\n",
              " '19',\n",
              " '21',\n",
              " '24',\n",
              " '6',\n",
              " '5',\n",
              " '11',\n",
              " '12',\n",
              " '26',\n",
              " '1',\n",
              " '37',\n",
              " '23',\n",
              " '2',\n",
              " '8',\n",
              " '35',\n",
              " '16',\n",
              " '3',\n",
              " '33',\n",
              " '20',\n",
              " '14']"
            ]
          },
          "metadata": {
            "tags": []
          },
          "execution_count": 53
        }
      ]
    },
    {
      "metadata": {
        "id": "fB_b-45C1CQp",
        "colab_type": "code",
        "outputId": "1b756ae7-1840-425f-81ad-82a612db0285",
        "colab": {
          "base_uri": "https://localhost:8080/",
          "height": 101
        }
      },
      "cell_type": "code",
      "source": [
        "files = os.listdir(f'{PATH}/valid/1')[:5]\n",
        "files"
      ],
      "execution_count": 54,
      "outputs": [
        {
          "output_type": "execute_result",
          "data": {
            "text/plain": [
              "['863e610e-b40f-40b7-bac7-4a23f06fe244.JPG',\n",
              " '2ce82838-8a6e-41db-9ca0-5ceb13a23d64.JPG',\n",
              " '70eaa3bd-2a78-4c06-9f90-f4755e0dc31c.JPG',\n",
              " '8052d42b-4478-4164-99e3-41d287a18160.JPG',\n",
              " '6e8d82a0-64d6-43ac-8370-d5459a0da2ed.JPG']"
            ]
          },
          "metadata": {
            "tags": []
          },
          "execution_count": 54
        }
      ]
    },
    {
      "metadata": {
        "id": "GhO1uha31CQz",
        "colab_type": "code",
        "outputId": "d8c2beda-d5b8-4609-dbb8-8a7263384d22",
        "colab": {
          "base_uri": "https://localhost:8080/",
          "height": 269
        }
      },
      "cell_type": "code",
      "source": [
        "img = plt.imread(f'{PATH}/valid/1/{files[0]}')\n",
        "plt.imshow(img);"
      ],
      "execution_count": 55,
      "outputs": [
        {
          "output_type": "display_data",
          "data": {
            "image/png": "[encoded data removed]",
            "text/plain": [
              "<matplotlib.figure.Figure at 0x7fdf5710b748>"
            ]
          },
          "metadata": {
            "tags": []
          }
        }
      ]
    },
    {
      "metadata": {
        "id": "emHEcBCC1CRC",
        "colab_type": "text"
      },
      "cell_type": "markdown",
      "source": [
        "Here is how the raw data looks like"
      ]
    },
    {
      "metadata": {
        "id": "vwheeY5S1CRF",
        "colab_type": "code",
        "outputId": "763ab71b-863a-4ca0-8621-374fc0e61893",
        "colab": {
          "base_uri": "https://localhost:8080/",
          "height": 34
        }
      },
      "cell_type": "code",
      "source": [
        "img.shape"
      ],
      "execution_count": 56,
      "outputs": [
        {
          "output_type": "execute_result",
          "data": {
            "text/plain": [
              "(256, 256, 3)"
            ]
          },
          "metadata": {
            "tags": []
          },
          "execution_count": 56
        }
      ]
    },
    {
      "metadata": {
        "id": "-SdMytRb1CRO",
        "colab_type": "code",
        "outputId": "fb1e01f6-30de-4fff-e60b-7e3e51de14c6",
        "colab": {
          "base_uri": "https://localhost:8080/",
          "height": 336
        }
      },
      "cell_type": "code",
      "source": [
        "img[:4,:4]"
      ],
      "execution_count": 57,
      "outputs": [
        {
          "output_type": "execute_result",
          "data": {
            "text/plain": [
              "array([[[160, 144, 147],\n",
              "        [139, 123, 126],\n",
              "        [154, 138, 141],\n",
              "        [131, 115, 118]],\n",
              "\n",
              "       [[163, 147, 150],\n",
              "        [158, 142, 145],\n",
              "        [165, 149, 152],\n",
              "        [170, 154, 157]],\n",
              "\n",
              "       [[155, 139, 142],\n",
              "        [142, 126, 129],\n",
              "        [127, 111, 114],\n",
              "        [169, 153, 156]],\n",
              "\n",
              "       [[154, 138, 141],\n",
              "        [183, 167, 170],\n",
              "        [162, 146, 149],\n",
              "        [161, 145, 148]]], dtype=uint8)"
            ]
          },
          "metadata": {
            "tags": []
          },
          "execution_count": 57
        }
      ]
    },
    {
      "metadata": {
        "id": "TZ-t_3X91CRT",
        "colab_type": "text"
      },
      "cell_type": "markdown",
      "source": [
        "## Our first model: quick start"
      ]
    },
    {
      "metadata": {
        "id": "yqGAR-wT1CRV",
        "colab_type": "text"
      },
      "cell_type": "markdown",
      "source": [
        "We're going to use a <b>pre-trained</b> model, that is, a model created by some one else to solve a different problem. Instead of building a model from scratch to solve a similar problem, we'll use a model trained on ImageNet (1.2 million images and 1000 classes) as a starting point. The model is a Convolutional Neural Network (CNN), a type of Neural Network that builds state-of-the-art models for computer vision. We'll be learning all about CNNs during this course.\n",
        "\n",
        "We will be using the <b>resnet34</b> model. resnet34 is a version of the model that won the 2015 ImageNet competition. Here is more info on [resnet models](https://github.com/KaimingHe/deep-residual-networks). We'll be studying them in depth later, but for now we'll focus on using them effectively.\n",
        "\n",
        "Here's how to train and evalulate a *dogs vs cats* model in 3 lines of code, and under 20 seconds:"
      ]
    },
    {
      "metadata": {
        "id": "ko6Rl87B1CRW",
        "colab_type": "code",
        "colab": {}
      },
      "cell_type": "code",
      "source": [
        "# Uncomment the below if you need to reset your precomputed activations\n",
        "#  shutil.rmtree(f'{PATH}tmp', ignore_errors=True)"
      ],
      "execution_count": 0,
      "outputs": []
    },
    {
      "metadata": {
        "id": "3B52sxe_1CRa",
        "colab_type": "code",
        "outputId": "ef4b8f4a-9acc-4104-eeed-1451ef3cf106",
        "colab": {
          "base_uri": "https://localhost:8080/",
          "height": 202
        }
      },
      "cell_type": "code",
      "source": [
        "#!pip install fastai\n",
        "\n",
        "arch=resnet34\n",
        "data = ImageClassifierData.from_paths(PATH, tfms=tfms_from_model(arch, sz))\n",
        "learn = ConvLearner.pretrained(arch, data, precompute=True)\n",
        "learn.fit(1e-2, 3)\n"
      ],
      "execution_count": 58,
      "outputs": [
        {
          "output_type": "stream",
          "text": [
            "Downloading: \"https://download.pytorch.org/models/resnet34-333f7ec4.pth\" to /root/.torch/models/resnet34-333f7ec4.pth\n",
            "100%|██████████| 87306240/87306240 [00:01<00:00, 83436871.93it/s]\n"
          ],
          "name": "stderr"
        },
        {
          "output_type": "stream",
          "text": [
            "100%|██████████| 137/137 [00:54<00:00,  3.77it/s]\n",
            "100%|██████████| 165/165 [01:00<00:00,  2.99it/s]\n"
          ],
          "name": "stdout"
        },
        {
          "output_type": "display_data",
          "data": {
            "application/vnd.jupyter.widget-view+json": {
              "model_id": "fd01d9845c524cb5b2962c2f7a1986bc",
              "version_minor": 0,
              "version_major": 2
            },
            "text/plain": [
              "HBox(children=(IntProgress(value=0, description='Epoch', max=3, style=ProgressStyle(description_width='initial…"
            ]
          },
          "metadata": {
            "tags": []
          }
        },
        {
          "output_type": "stream",
          "text": [
            "epoch      trn_loss   val_loss   accuracy   \n",
            "    0      0.913926   0.454435   0.876079  \n",
            "    1      0.488602   0.313472   0.91097   \n",
            "    2      0.369008   0.259346   0.921968  \n",
            "\n"
          ],
          "name": "stdout"
        },
        {
          "output_type": "execute_result",
          "data": {
            "text/plain": [
              "[array([0.25935]), 0.9219683322893383]"
            ]
          },
          "metadata": {
            "tags": []
          },
          "execution_count": 58
        }
      ]
    },
    {
      "metadata": {
        "id": "JzzQRAus1CRj",
        "colab_type": "text"
      },
      "cell_type": "markdown",
      "source": [
        "How good is this model? Well, as we mentioned, prior to this competition, the state of the art was 80% accuracy. But the competition resulted in a huge jump to 98.9% accuracy, with the author of a popular deep learning library winning the competition. Extraordinarily, less than 4 years later, we can now beat that result in seconds! Even last year in this same course, our initial model had 98.3% accuracy, which is nearly double the error we're getting just a year later, and that took around 10 minutes to compute."
      ]
    },
    {
      "metadata": {
        "id": "phP5jFv91CRq",
        "colab_type": "text"
      },
      "cell_type": "markdown",
      "source": [
        "## Analyzing results: looking at pictures"
      ]
    },
    {
      "metadata": {
        "id": "_9SSn5qy1CRt",
        "colab_type": "text"
      },
      "cell_type": "markdown",
      "source": [
        "As well as looking at the overall metrics, it's also a good idea to look at examples of each of:\n",
        "1. A few correct labels at random\n",
        "2. A few incorrect labels at random\n",
        "3. The most correct labels of each class (i.e. those with highest probability that are correct)\n",
        "4. The most incorrect labels of each class (i.e. those with highest probability that are incorrect)\n",
        "5. The most uncertain labels (i.e. those with probability closest to 0.5)."
      ]
    },
    {
      "metadata": {
        "id": "p_LNEX0J1CRv",
        "colab_type": "code",
        "outputId": "a82e4399-dd42-4568-94b9-891c7ba3383b",
        "colab": {
          "base_uri": "https://localhost:8080/",
          "height": 34
        }
      },
      "cell_type": "code",
      "source": [
        "# This is the label for a val data\n",
        "data.val_y"
      ],
      "execution_count": 59,
      "outputs": [
        {
          "output_type": "execute_result",
          "data": {
            "text/plain": [
              "array([ 0,  0,  0, ..., 37, 37, 37])"
            ]
          },
          "metadata": {
            "tags": []
          },
          "execution_count": 59
        }
      ]
    },
    {
      "metadata": {
        "id": "BB-KNcT31CR4",
        "colab_type": "code",
        "outputId": "daa8abed-6332-472e-ccc7-f8e4ff6b3ef7",
        "colab": {
          "base_uri": "https://localhost:8080/",
          "height": 655
        }
      },
      "cell_type": "code",
      "source": [
        "# from here we know that 'cats' is label 0 and 'dogs' is label 1.\n",
        "data.classes"
      ],
      "execution_count": 60,
      "outputs": [
        {
          "output_type": "execute_result",
          "data": {
            "text/plain": [
              "['0',\n",
              " '1',\n",
              " '10',\n",
              " '11',\n",
              " '12',\n",
              " '13',\n",
              " '14',\n",
              " '15',\n",
              " '16',\n",
              " '17',\n",
              " '18',\n",
              " '19',\n",
              " '2',\n",
              " '20',\n",
              " '21',\n",
              " '22',\n",
              " '23',\n",
              " '24',\n",
              " '25',\n",
              " '26',\n",
              " '27',\n",
              " '28',\n",
              " '29',\n",
              " '3',\n",
              " '30',\n",
              " '31',\n",
              " '32',\n",
              " '33',\n",
              " '34',\n",
              " '35',\n",
              " '36',\n",
              " '37',\n",
              " '4',\n",
              " '5',\n",
              " '6',\n",
              " '7',\n",
              " '8',\n",
              " '9']"
            ]
          },
          "metadata": {
            "tags": []
          },
          "execution_count": 60
        }
      ]
    },
    {
      "metadata": {
        "id": "JKPa1FDL1CSA",
        "colab_type": "code",
        "outputId": "6599a67e-0be5-4b7d-896b-88170cc7acce",
        "colab": {
          "base_uri": "https://localhost:8080/",
          "height": 34
        }
      },
      "cell_type": "code",
      "source": [
        "# this gives prediction for validation set. Predictions are in log scale\n",
        "log_preds = learn.predict()\n",
        "log_preds.shape"
      ],
      "execution_count": 61,
      "outputs": [
        {
          "output_type": "execute_result",
          "data": {
            "text/plain": [
              "(10547, 38)"
            ]
          },
          "metadata": {
            "tags": []
          },
          "execution_count": 61
        }
      ]
    },
    {
      "metadata": {
        "id": "ADcdK_2J1CSG",
        "colab_type": "code",
        "outputId": "0a3ba28f-f6fb-4893-a1ec-31df84dce5fa",
        "colab": {
          "base_uri": "https://localhost:8080/",
          "height": 857
        }
      },
      "cell_type": "code",
      "source": [
        "log_preds[:10]"
      ],
      "execution_count": 62,
      "outputs": [
        {
          "output_type": "execute_result",
          "data": {
            "text/plain": [
              "array([[ -0.05357,  -5.91769,  -8.97628,  -8.82386,  -7.11698,  -8.14495,  -6.20566,  -4.75043,  -7.26543,\n",
              "         -8.36349,  -9.12902,  -9.44889,  -4.51657,  -6.4864 ,  -6.83224,  -7.89044,  -6.71935,  -8.35468,\n",
              "         -8.76895,  -6.81324,  -6.65932,  -8.93542, -11.28633,  -5.72051, -10.03682,  -9.5799 ,  -7.60408,\n",
              "        -10.48819,  -9.3346 ,  -9.24488, -10.39911,  -7.26362,  -8.74883,  -6.31661,  -4.75946,  -8.39111,\n",
              "         -6.00601,  -8.42078],\n",
              "       [ -1.4159 ,  -6.20832,  -9.04522, -10.36724, -11.99434, -10.62172,  -7.38608,  -9.67987,  -3.98428,\n",
              "         -7.12151, -11.3824 ,  -9.41041,  -7.4469 ,  -8.1632 ,  -9.20767, -10.16073,  -7.62039,  -6.28217,\n",
              "         -8.92798,  -9.10202,  -7.25279, -13.20605, -10.2659 ,  -0.31681,  -9.53811, -10.9207 , -10.51519,\n",
              "        -14.99   , -11.97815, -13.74295, -12.1086 ,  -9.84045,  -7.29611,  -8.9473 ,  -6.90889, -10.47242,\n",
              "        -10.92198,  -9.87775],\n",
              "       [ -0.06556,  -8.61776,  -8.83309, -10.30731, -11.02342,  -9.58328,  -7.1848 , -10.66517,  -7.57445,\n",
              "         -9.30922,  -9.60111, -10.7556 ,  -8.8717 ,  -6.02964,  -6.34145,  -6.89575,  -7.18691,  -6.84436,\n",
              "         -8.1063 ,  -9.3883 ,  -6.03613, -12.9807 , -12.22402,  -3.01121, -10.99407, -10.79336, -10.37028,\n",
              "        -13.47962, -11.36876, -11.76512, -12.03436,  -8.56406,  -6.33598,  -9.51874, -11.14111, -10.08919,\n",
              "         -8.70552, -10.68278],\n",
              "       [ -2.38391,  -5.54116,  -9.55307,  -7.42872, -10.51755,  -7.24636,  -5.11224, -14.08739,  -3.36811,\n",
              "         -7.78585, -12.55085, -11.47037,  -6.61556,  -7.87378, -12.04188, -11.57041,  -5.50856, -10.91088,\n",
              "         -6.01579,  -7.81015,  -6.99656, -10.59946,  -8.45953,  -0.16828, -10.64997, -11.74764,  -8.7357 ,\n",
              "        -14.22335, -10.68582, -15.34927, -10.34433,  -8.31203,  -9.84864,  -9.7962 ,  -5.13413, -10.55548,\n",
              "        -10.56453,  -9.12648],\n",
              "       [ -0.41389,  -4.28588,  -8.35048,  -8.78677, -10.22373,  -9.80469,  -6.94308, -10.04066,  -3.51686,\n",
              "         -5.53675,  -7.92111,  -7.96373,  -7.04491,  -4.30311,  -4.94484,  -6.28268,  -5.6041 ,  -5.169  ,\n",
              "         -8.39421,  -7.90697,  -6.3283 , -13.5274 ,  -9.182  ,  -1.59503,  -7.31697,  -8.91089,  -9.49892,\n",
              "         -9.48831,  -9.31638, -15.12493,  -9.59514,  -5.44514,  -3.1171 ,  -9.52621,  -7.02078,  -9.67786,\n",
              "         -7.81738,  -9.98167],\n",
              "       [ -0.70151,  -4.3254 ,  -9.52288,  -9.40084, -10.15782, -10.22228,  -7.60672, -10.00196,  -7.58468,\n",
              "         -5.35625,  -7.96376,  -8.13573,  -7.16357,  -6.80149,  -6.79841,  -7.73218,  -7.33815,  -4.85765,\n",
              "         -9.04397,  -9.0599 ,  -6.93811, -15.39555, -10.0904 ,  -0.80453, -10.0019 ,  -9.65113, -11.43397,\n",
              "        -12.85381, -11.24718, -14.50461, -10.61376,  -7.12026,  -3.79662,  -9.52979,  -8.16381, -10.98066,\n",
              "         -9.41572, -10.90475],\n",
              "       [ -1.8906 ,  -7.01771,  -8.36763,  -8.29191,  -7.37583,  -8.04633,  -4.53566,  -6.50582,  -4.5327 ,\n",
              "         -6.75416,  -9.45914,  -8.44576,  -5.82067,  -8.86697,  -8.93332,  -8.97459,  -6.94323,  -7.31739,\n",
              "         -8.05965,  -9.04228,  -7.07862,  -8.70584, -11.00057,  -0.2094 ,  -9.89966,  -9.3581 ,  -9.70093,\n",
              "        -10.5571 ,  -8.94963, -12.28252,  -9.96896,  -7.83393,  -6.45823,  -7.46032,  -6.88897,  -9.78922,\n",
              "         -7.58091,  -8.46262],\n",
              "       [ -0.83169,  -6.26503,  -5.0376 ,  -7.84935,  -5.98886,  -7.14107,  -5.30999,  -6.48296,  -6.02003,\n",
              "         -4.83612,  -4.63606,  -4.88328,  -5.94187,  -3.52125,  -5.23925,  -5.82847,  -7.68294,  -5.08145,\n",
              "         -3.63892,  -4.0915 ,  -5.1903 ,  -4.92038,  -5.2398 ,  -6.20212,  -3.98021,  -3.03986,  -4.13335,\n",
              "         -6.45939,  -6.68083,  -5.86629,  -5.03947,  -8.04674,  -6.81895,  -1.21794,  -6.76351,  -4.58082,\n",
              "         -7.29966,  -5.47413],\n",
              "       [ -0.7789 ,  -5.00282,  -7.48565,  -5.76784,  -5.54946,  -4.05794,  -1.39622,  -9.4701 ,  -4.51606,\n",
              "         -6.47798,  -9.89844,  -7.85423,  -4.45775,  -7.26437,  -8.33107,  -8.30984,  -5.50394,  -6.40296,\n",
              "         -3.52156,  -8.06944,  -4.96723,  -7.90869,  -7.21439,  -1.78323,  -5.29066,  -8.21613,  -5.41358,\n",
              "         -9.22904,  -5.92687, -11.82137,  -8.73418,  -6.10487,  -7.36053,  -7.29592,  -5.03584,  -9.1331 ,\n",
              "         -6.65688,  -8.02045],\n",
              "       [ -0.56912,  -6.30845,  -7.21135,  -8.22863,  -9.5416 ,  -7.05691,  -6.74875, -10.22839,  -5.44453,\n",
              "         -5.98713,  -9.99196,  -8.72387,  -7.5677 ,  -6.68011,  -7.68896,  -6.9895 ,  -5.37431,  -4.12726,\n",
              "         -7.08726,  -7.82886,  -6.6069 , -13.07293, -10.79042,  -0.947  , -11.13061, -10.67302,  -9.51569,\n",
              "        -13.00923, -10.76037, -13.46679, -11.5719 ,  -9.66673,  -5.87967, -10.00209,  -5.46655,  -9.52522,\n",
              "         -9.61017,  -8.96328]], dtype=float32)"
            ]
          },
          "metadata": {
            "tags": []
          },
          "execution_count": 62
        }
      ]
    },
    {
      "metadata": {
        "id": "6idiuXWw1CSN",
        "colab_type": "code",
        "colab": {}
      },
      "cell_type": "code",
      "source": [
        "preds = np.argmax(log_preds, axis=1)  # from log probabilities to 0 or 1\n",
        "probs = np.exp(log_preds[:,1])        # pr(dog)"
      ],
      "execution_count": 0,
      "outputs": []
    },
    {
      "metadata": {
        "id": "6FS6KhDF1CUM",
        "colab_type": "text"
      },
      "cell_type": "markdown",
      "source": [
        "## Choosing a learning rate"
      ]
    },
    {
      "metadata": {
        "id": "S8pG6PVZ1CUP",
        "colab_type": "text"
      },
      "cell_type": "markdown",
      "source": [
        "The *learning rate* determines how quickly or how slowly you want to update the *weights* (or *parameters*). Learning rate is one of the most difficult parameters to set, because it significantly affects model performance.\n",
        "\n",
        "The method `learn.lr_find()` helps you find an optimal learning rate. It uses the technique developed in the 2015 paper [Cyclical Learning Rates for Training Neural Networks](http://arxiv.org/abs/1506.01186), where we simply keep increasing the learning rate from a very small value, until the loss stops decreasing. We can plot the learning rate across batches to see what this looks like.\n",
        "\n",
        "We first create a new learner, since we want to know how to set the learning rate for a new (untrained) model."
      ]
    },
    {
      "metadata": {
        "id": "b273NKU51CUR",
        "colab_type": "code",
        "colab": {}
      },
      "cell_type": "code",
      "source": [
        "learn = ConvLearner.pretrained(arch, data, precompute=True)"
      ],
      "execution_count": 0,
      "outputs": []
    },
    {
      "metadata": {
        "id": "lfr759tg1CUe",
        "colab_type": "code",
        "outputId": "478560d7-fcfc-49e4-b026-74af9e3aa5bc",
        "colab": {
          "base_uri": "https://localhost:8080/",
          "height": 50
        }
      },
      "cell_type": "code",
      "source": [
        "lrf=learn.lr_find()"
      ],
      "execution_count": 65,
      "outputs": [
        {
          "output_type": "display_data",
          "data": {
            "application/vnd.jupyter.widget-view+json": {
              "model_id": "dc163800724e4850a340d8481a2141fe",
              "version_minor": 0,
              "version_major": 2
            },
            "text/plain": [
              "HBox(children=(IntProgress(value=0, description='Epoch', max=1, style=ProgressStyle(description_width='initial…"
            ]
          },
          "metadata": {
            "tags": []
          }
        },
        {
          "output_type": "stream",
          "text": [
            " 90%|████████▉ | 123/137 [00:02<00:00, 53.27it/s, loss=12]  \n"
          ],
          "name": "stdout"
        }
      ]
    },
    {
      "metadata": {
        "id": "dL9zx-F91CUz",
        "colab_type": "text"
      },
      "cell_type": "markdown",
      "source": [
        "Our `learn` object contains an attribute `sched` that contains our learning rate scheduler, and has some convenient plotting functionality including this one:"
      ]
    },
    {
      "metadata": {
        "id": "RlzMj5sp1CU8",
        "colab_type": "code",
        "colab": {
          "base_uri": "https://localhost:8080/",
          "height": 279
        },
        "outputId": "b22dfd7a-fe7b-41a1-d841-6d02e391685c"
      },
      "cell_type": "code",
      "source": [
        "learn.sched.plot_lr()"
      ],
      "execution_count": 66,
      "outputs": [
        {
          "output_type": "display_data",
          "data": {
            "image/png": "[encoded data removed]",
            "text/plain": [
              "<matplotlib.figure.Figure at 0x7fdf9b18e1d0>"
            ]
          },
          "metadata": {
            "tags": []
          }
        }
      ]
    },
    {
      "metadata": {
        "id": "TA4WBgmo1CVw",
        "colab_type": "text"
      },
      "cell_type": "markdown",
      "source": [
        "Note that in the previous plot *iteration* is one iteration (or *minibatch*) of SGD. In one epoch there are \n",
        "(num_train_samples/batch_size) iterations of SGD.\n",
        "\n",
        "We can see the plot of loss versus learning rate to see where our loss stops decreasing:"
      ]
    },
    {
      "metadata": {
        "id": "vPSf37GJ1CV0",
        "colab_type": "code",
        "outputId": "443db7f9-2259-4466-f1c6-b4555b736aa3",
        "colab": {
          "base_uri": "https://localhost:8080/",
          "height": 283
        }
      },
      "cell_type": "code",
      "source": [
        "learn.sched.plot()"
      ],
      "execution_count": 67,
      "outputs": [
        {
          "output_type": "display_data",
          "data": {
            "image/png": "[encoded data removed]",
            "text/plain": [
              "<matplotlib.figure.Figure at 0x7fdf5709d2e8>"
            ]
          },
          "metadata": {
            "tags": []
          }
        }
      ]
    },
    {
      "metadata": {
        "id": "EjEuW7b-1CWP",
        "colab_type": "text"
      },
      "cell_type": "markdown",
      "source": [
        "The loss is still clearly improving at lr=1e-2 (0.01), so that's what we use. Note that the optimal learning rate can change as we train the model, so you may want to re-run this function from time to time."
      ]
    },
    {
      "metadata": {
        "id": "p085wwmb1CWQ",
        "colab_type": "text"
      },
      "cell_type": "markdown",
      "source": [
        "## Improving our model"
      ]
    },
    {
      "metadata": {
        "id": "3OEReGRF1CWV",
        "colab_type": "text"
      },
      "cell_type": "markdown",
      "source": [
        "### Data augmentation"
      ]
    },
    {
      "metadata": {
        "id": "a1Tfw8sA1CWg",
        "colab_type": "text"
      },
      "cell_type": "markdown",
      "source": [
        "If you try training for more epochs, you'll notice that we start to *overfit*, which means that our model is learning to recognize the specific images in the training set, rather than generalizing such that we also get good results on the validation set. One way to fix this is to effectively create more data, through *data augmentation*. This refers to randomly changing the images in ways that shouldn't impact their interpretation, such as horizontal flipping, zooming, and rotating.\n",
        "\n",
        "We can do this by passing `aug_tfms` (*augmentation transforms*) to `tfms_from_model`, with a list of functions to apply that randomly change the image however we wish. For photos that are largely taken from the side (e.g. most photos of dogs and cats, as opposed to photos taken from the top down, such as satellite imagery) we can use the pre-defined list of functions `transforms_side_on`. We can also specify random zooming of images up to specified scale by adding the `max_zoom` parameter."
      ]
    },
    {
      "metadata": {
        "id": "RH1gLx8A1CWh",
        "colab_type": "code",
        "colab": {}
      },
      "cell_type": "code",
      "source": [
        "tfms = tfms_from_model(resnet34, sz, aug_tfms=transforms_side_on, max_zoom=1.1)"
      ],
      "execution_count": 0,
      "outputs": []
    },
    {
      "metadata": {
        "id": "LcmhsPzh1CWl",
        "colab_type": "code",
        "colab": {}
      },
      "cell_type": "code",
      "source": [
        "def get_augs():\n",
        "    data = ImageClassifierData.from_paths(PATH, bs=2, tfms=tfms, num_workers=1)\n",
        "    x,_ = next(iter(data.aug_dl))\n",
        "    return data.trn_ds.denorm(x)[1]"
      ],
      "execution_count": 0,
      "outputs": []
    },
    {
      "metadata": {
        "id": "eSt0dURD1CW3",
        "colab_type": "text"
      },
      "cell_type": "markdown",
      "source": [
        "Let's create a new `data` object that includes this augmentation in the transforms."
      ]
    },
    {
      "metadata": {
        "id": "aSe7uAz31CW4",
        "colab_type": "code",
        "colab": {}
      },
      "cell_type": "code",
      "source": [
        "data = ImageClassifierData.from_paths(PATH, tfms=tfms)\n",
        "learn = ConvLearner.pretrained(arch, data, precompute=True)"
      ],
      "execution_count": 0,
      "outputs": []
    },
    {
      "metadata": {
        "id": "pldsBgye1CXF",
        "colab_type": "code",
        "outputId": "49d781c2-3b98-4526-b81a-4eba83682fb2",
        "colab": {
          "base_uri": "https://localhost:8080/",
          "height": 101
        }
      },
      "cell_type": "code",
      "source": [
        "learn.fit(1e-2, 1)"
      ],
      "execution_count": 71,
      "outputs": [
        {
          "output_type": "display_data",
          "data": {
            "application/vnd.jupyter.widget-view+json": {
              "model_id": "4bc74816331b4a4f8a4bda26409a1830",
              "version_minor": 0,
              "version_major": 2
            },
            "text/plain": [
              "HBox(children=(IntProgress(value=0, description='Epoch', max=1, style=ProgressStyle(description_width='initial…"
            ]
          },
          "metadata": {
            "tags": []
          }
        },
        {
          "output_type": "stream",
          "text": [
            "epoch      trn_loss   val_loss   accuracy   \n",
            "    0      0.949175   0.472161   0.871053  \n",
            "\n"
          ],
          "name": "stdout"
        },
        {
          "output_type": "execute_result",
          "data": {
            "text/plain": [
              "[array([0.47216]), 0.871053380164601]"
            ]
          },
          "metadata": {
            "tags": []
          },
          "execution_count": 71
        }
      ]
    },
    {
      "metadata": {
        "id": "PMwV9OVz1CXO",
        "colab_type": "code",
        "colab": {}
      },
      "cell_type": "code",
      "source": [
        "learn.precompute=False"
      ],
      "execution_count": 0,
      "outputs": []
    },
    {
      "metadata": {
        "id": "xI0pY99W1CXT",
        "colab_type": "text"
      },
      "cell_type": "markdown",
      "source": [
        "By default when we create a learner, it sets all but the last layer to *frozen*. That means that it's still only updating the weights in the last layer when we call `fit`."
      ]
    },
    {
      "metadata": {
        "id": "FFSFSOVX1CXV",
        "colab_type": "code",
        "outputId": "d991392a-4392-458b-8e03-bd54dae43a20",
        "colab": {
          "base_uri": "https://localhost:8080/",
          "height": 134
        }
      },
      "cell_type": "code",
      "source": [
        "learn.fit(1e-2, 3, cycle_len=1)"
      ],
      "execution_count": 73,
      "outputs": [
        {
          "output_type": "display_data",
          "data": {
            "application/vnd.jupyter.widget-view+json": {
              "model_id": "fd5f5da0c786490c96098029c98477a8",
              "version_minor": 0,
              "version_major": 2
            },
            "text/plain": [
              "HBox(children=(IntProgress(value=0, description='Epoch', max=3, style=ProgressStyle(description_width='initial…"
            ]
          },
          "metadata": {
            "tags": []
          }
        },
        {
          "output_type": "stream",
          "text": [
            "epoch      trn_loss   val_loss   accuracy   \n",
            "    0      0.554546   0.384333   0.893809  \n",
            "    1      0.478706   0.331211   0.904238  \n",
            "    2      0.423366   0.302968   0.91116   \n",
            "\n"
          ],
          "name": "stdout"
        },
        {
          "output_type": "execute_result",
          "data": {
            "text/plain": [
              "[array([0.30297]), 0.9111595714929782]"
            ]
          },
          "metadata": {
            "tags": []
          },
          "execution_count": 73
        }
      ]
    },
    {
      "metadata": {
        "id": "yuBuxwzz1CXY",
        "colab_type": "text"
      },
      "cell_type": "markdown",
      "source": [
        "What is that `cycle_len` parameter? What we've done here is used a technique called *stochastic gradient descent with restarts (SGDR)*, a variant of *learning rate annealing*, which gradually decreases the learning rate as training progresses. This is helpful because as we get closer to the optimal weights, we want to take smaller steps.\n",
        "\n",
        "However, we may find ourselves in a part of the weight space that isn't very resilient - that is, small changes to the weights may result in big changes to the loss. We want to encourage our model to find parts of the weight space that are both accurate and stable. Therefore, from time to time we increase the learning rate (this is the 'restarts' in 'SGDR'), which will force the model to jump to a different part of the weight space if the current area is \"spikey\". Here's a picture of how that might look if we reset the learning rates 3 times (in this paper they call it a \"cyclic LR schedule\"):\n",
        "\n",
        "<img src=\"https://github.com/fastai/fastai/blob/master/courses/dl1/images/sgdr.png?raw=1\" width=\"80%\">\n",
        "(From the paper [Snapshot Ensembles](https://arxiv.org/abs/1704.00109)).\n",
        "\n",
        "The number of epochs between resetting the learning rate is set by `cycle_len`, and the number of times this happens is refered to as the *number of cycles*, and is what we're actually passing as the 2nd parameter to `fit()`. So here's what our actual learning rates looked like:"
      ]
    },
    {
      "metadata": {
        "id": "yOA4xvTv1CXZ",
        "colab_type": "code",
        "colab": {
          "base_uri": "https://localhost:8080/",
          "height": 279
        },
        "outputId": "cd92e31a-536e-4214-9d00-47144b4b3589"
      },
      "cell_type": "code",
      "source": [
        "learn.sched.plot_lr()"
      ],
      "execution_count": 74,
      "outputs": [
        {
          "output_type": "display_data",
          "data": {
            "image/png": "[encoded data removed]",
            "text/plain": [
              "<matplotlib.figure.Figure at 0x7fdf500f3630>"
            ]
          },
          "metadata": {
            "tags": []
          }
        }
      ]
    },
    {
      "metadata": {
        "id": "Ff6B7sRW1CXe",
        "colab_type": "text"
      },
      "cell_type": "markdown",
      "source": [
        "Our validation loss isn't improving much, so there's probably no point further training the last layer on its own."
      ]
    },
    {
      "metadata": {
        "id": "wKcMPoIr1CXg",
        "colab_type": "text"
      },
      "cell_type": "markdown",
      "source": [
        "Since we've got a pretty good model at this point, we might want to save it so we can load it again later without training it from scratch."
      ]
    },
    {
      "metadata": {
        "id": "qzI6OoZq1CXh",
        "colab_type": "code",
        "colab": {}
      },
      "cell_type": "code",
      "source": [
        "learn.save('224_lastlayer')"
      ],
      "execution_count": 0,
      "outputs": []
    },
    {
      "metadata": {
        "id": "MZ-WJXE01CXk",
        "colab_type": "code",
        "colab": {}
      },
      "cell_type": "code",
      "source": [
        "learn.load('224_lastlayer')"
      ],
      "execution_count": 0,
      "outputs": []
    },
    {
      "metadata": {
        "id": "3uDHWIRx1CXo",
        "colab_type": "text"
      },
      "cell_type": "markdown",
      "source": [
        "### Fine-tuning and differential learning rate annealing"
      ]
    },
    {
      "metadata": {
        "id": "99p2MEMy1CXq",
        "colab_type": "text"
      },
      "cell_type": "markdown",
      "source": [
        "Now that we have a good final layer trained, we can try fine-tuning the other layers. To tell the learner that we want to unfreeze the remaining layers, just call (surprise surprise!) `unfreeze()`."
      ]
    },
    {
      "metadata": {
        "id": "KS0NIm9W1CXu",
        "colab_type": "code",
        "colab": {}
      },
      "cell_type": "code",
      "source": [
        "learn.unfreeze()"
      ],
      "execution_count": 0,
      "outputs": []
    },
    {
      "metadata": {
        "id": "ssiZjrVM1CXy",
        "colab_type": "text"
      },
      "cell_type": "markdown",
      "source": [
        "Note that the other layers have *already* been trained to recognize imagenet photos (whereas our final layers where randomly initialized), so we want to be careful of not destroying the carefully tuned weights that are already there.\n",
        "\n",
        "Generally speaking, the earlier layers (as we've seen) have more general-purpose features. Therefore we would expect them to need less fine-tuning for new datasets. For this reason we will use different learning rates for different layers: the first few layers will be at 1e-4, the middle layers at 1e-3, and our FC layers we'll leave at 1e-2 as before. We refer to this as *differential learning rates*, although there's no standard name for this techique in the literature that we're aware of."
      ]
    },
    {
      "metadata": {
        "id": "oUH39P_F1CYI",
        "colab_type": "code",
        "colab": {}
      },
      "cell_type": "code",
      "source": [
        "lr=np.array([1e-4,1e-3,1e-2])"
      ],
      "execution_count": 0,
      "outputs": []
    },
    {
      "metadata": {
        "id": "E_VELWiz1CYd",
        "colab_type": "code",
        "outputId": "84c53d36-2131-4233-c35f-081c5dc1431d",
        "colab": {
          "base_uri": "https://localhost:8080/",
          "height": 202
        }
      },
      "cell_type": "code",
      "source": [
        "learn.fit(lr, 3, cycle_len=1, cycle_mult=2)"
      ],
      "execution_count": 79,
      "outputs": [
        {
          "output_type": "display_data",
          "data": {
            "application/vnd.jupyter.widget-view+json": {
              "model_id": "6dfacecdbdd04bf7bd6b00d77102a2e1",
              "version_minor": 0,
              "version_major": 2
            },
            "text/plain": [
              "HBox(children=(IntProgress(value=0, description='Epoch', max=7, style=ProgressStyle(description_width='initial…"
            ]
          },
          "metadata": {
            "tags": []
          }
        },
        {
          "output_type": "stream",
          "text": [
            "epoch      trn_loss   val_loss   accuracy   \n",
            "    0      0.41177    0.238647   0.930027  \n",
            "    1      0.251249   0.155419   0.950602  \n",
            "    2      0.170299   0.137291   0.958756  \n",
            "    3      0.137432   0.114988   0.96435   \n",
            "    4      0.101667   0.10137    0.968806  \n",
            "    5      0.084902   0.096615   0.968237  \n",
            "    6      0.077744   0.092556   0.969849  \n",
            "\n"
          ],
          "name": "stdout"
        },
        {
          "output_type": "execute_result",
          "data": {
            "text/plain": [
              "[array([0.09256]), 0.9698492462537611]"
            ]
          },
          "metadata": {
            "tags": []
          },
          "execution_count": 79
        }
      ]
    },
    {
      "metadata": {
        "id": "8ooXfYOu1CYi",
        "colab_type": "text"
      },
      "cell_type": "markdown",
      "source": [
        "Another trick we've used here is adding the `cycle_mult` parameter. Take a look at the following chart, and see if you can figure out what the parameter is doing:"
      ]
    },
    {
      "metadata": {
        "id": "W5EaoOHD1CYj",
        "colab_type": "code",
        "colab": {
          "base_uri": "https://localhost:8080/",
          "height": 279
        },
        "outputId": "acf9501a-bb48-4a82-ff3c-3dcd1159f0f9"
      },
      "cell_type": "code",
      "source": [
        "learn.sched.plot_lr()"
      ],
      "execution_count": 80,
      "outputs": [
        {
          "output_type": "display_data",
          "data": {
            "image/png": "[encoded data removed]",
            "text/plain": [
              "<matplotlib.figure.Figure at 0x7fdf56e839b0>"
            ]
          },
          "metadata": {
            "tags": []
          }
        }
      ]
    },
    {
      "metadata": {
        "id": "KLWkjBBW1CYx",
        "colab_type": "text"
      },
      "cell_type": "markdown",
      "source": [
        "Note that what's being plotted above is the learning rate of the *final layers*. The learning rates of the earlier layers are fixed at the same multiples of the final layer rates as we initially requested (i.e. the first layers have 100x smaller, and middle layers 10x smaller learning rates, since we set `lr=np.array([1e-4,1e-3,1e-2])`."
      ]
    },
    {
      "metadata": {
        "id": "QeOg_Qxr1CY3",
        "colab_type": "code",
        "colab": {}
      },
      "cell_type": "code",
      "source": [
        "learn.save('224_all')"
      ],
      "execution_count": 0,
      "outputs": []
    },
    {
      "metadata": {
        "id": "rpUibzbw1CY-",
        "colab_type": "code",
        "colab": {}
      },
      "cell_type": "code",
      "source": [
        "learn.load('224_all')"
      ],
      "execution_count": 0,
      "outputs": []
    },
    {
      "metadata": {
        "id": "I5j1BjO71CZC",
        "colab_type": "text"
      },
      "cell_type": "markdown",
      "source": [
        "There is something else we can do with data augmentation: use it at *inference* time (also known as *test* time). Not surprisingly, this is known as *test time augmentation*, or just *TTA*.\n",
        "\n",
        "TTA simply makes predictions not just on the images in your validation set, but also makes predictions on a number of randomly augmented versions of them too (by default, it uses the original image along with 4 randomly augmented versions). It then takes the average prediction from these images, and uses that. To use TTA on the validation set, we can use the learner's `TTA()` method."
      ]
    },
    {
      "metadata": {
        "id": "o20B9s_u1CZD",
        "colab_type": "code",
        "outputId": "9bb180de-ccc0-481a-e3b2-efa89390c8c8",
        "colab": {
          "base_uri": "https://localhost:8080/",
          "height": 17
        }
      },
      "cell_type": "code",
      "source": [
        "log_preds,y = learn.TTA()\n",
        "probs = np.mean(np.exp(log_preds),0)"
      ],
      "execution_count": 83,
      "outputs": [
        {
          "output_type": "stream",
          "text": [
            ""
          ],
          "name": "stdout"
        }
      ]
    },
    {
      "metadata": {
        "id": "2R7muYLh1CZI",
        "colab_type": "code",
        "outputId": "537ad154-4b4c-4bc2-843f-1437a82429a8",
        "colab": {
          "base_uri": "https://localhost:8080/",
          "height": 34
        }
      },
      "cell_type": "code",
      "source": [
        "accuracy_np(probs, y)"
      ],
      "execution_count": 84,
      "outputs": [
        {
          "output_type": "execute_result",
          "data": {
            "text/plain": [
              "0.9752536266236844"
            ]
          },
          "metadata": {
            "tags": []
          },
          "execution_count": 84
        }
      ]
    },
    {
      "metadata": {
        "id": "ObSwOH851CZf",
        "colab_type": "text"
      },
      "cell_type": "markdown",
      "source": [
        "I generally see about a 10-20% reduction in error on this dataset when using TTA at this point, which is an amazing result for such a quick and easy technique!"
      ]
    },
    {
      "metadata": {
        "id": "MHMh5umv1CZu",
        "colab_type": "text"
      },
      "cell_type": "markdown",
      "source": [
        "## Analyzing results"
      ]
    },
    {
      "metadata": {
        "id": "DQQfDZwT1CZy",
        "colab_type": "text"
      },
      "cell_type": "markdown",
      "source": [
        "### Confusion matrix "
      ]
    },
    {
      "metadata": {
        "id": "Ndig-yUh1CZ3",
        "colab_type": "code",
        "colab": {}
      },
      "cell_type": "code",
      "source": [
        "preds = np.argmax(probs, axis=1)\n",
        "probs = probs[:,1]"
      ],
      "execution_count": 0,
      "outputs": []
    },
    {
      "metadata": {
        "id": "0iGrvJH81CaH",
        "colab_type": "text"
      },
      "cell_type": "markdown",
      "source": [
        "A common way to analyze the result of a classification model is to use a [confusion matrix](http://www.dataschool.io/simple-guide-to-confusion-matrix-terminology/). Scikit-learn has a convenient function we can use for this purpose:"
      ]
    },
    {
      "metadata": {
        "id": "uFH-nAo71CaQ",
        "colab_type": "code",
        "colab": {}
      },
      "cell_type": "code",
      "source": [
        "from sklearn.metrics import confusion_matrix\n",
        "cm = confusion_matrix(y, preds)"
      ],
      "execution_count": 0,
      "outputs": []
    },
    {
      "metadata": {
        "id": "e5uwLECW1Cag",
        "colab_type": "text"
      },
      "cell_type": "markdown",
      "source": [
        "We can just print out the confusion matrix, or we can show a graphical view (which is mainly useful for dependents with a larger number of categories)."
      ]
    },
    {
      "metadata": {
        "id": "D7Vs7FLf1Cal",
        "colab_type": "code",
        "outputId": "0e134a33-fe89-488f-b6d5-b85ff9d676cc",
        "colab": {
          "base_uri": "https://localhost:8080/",
          "height": 429
        }
      },
      "cell_type": "code",
      "source": [
        "plot_confusion_matrix(cm, data.classes)"
      ],
      "execution_count": 87,
      "outputs": [
        {
          "output_type": "stream",
          "text": [
            "[[105   0   0 ...   0   0   0]\n",
            " [  0  85   0 ...   0   0   0]\n",
            " [  0   0 221 ...   0   0   0]\n",
            " ...\n",
            " [  0   0   0 ...  90   0  14]\n",
            " [  0   0   0 ...   1 232   0]\n",
            " [  0   0   0 ...  18   0 204]]\n"
          ],
          "name": "stdout"
        },
        {
          "output_type": "display_data",
          "data": {
            "image/png": "[encoded data removed]",
            "text/plain": [
              "<matplotlib.figure.Figure at 0x7fdf56e9fe48>"
            ]
          },
          "metadata": {
            "tags": []
          }
        }
      ]
    },
    {
      "metadata": {
        "id": "iJgoS8jh1CbK",
        "colab_type": "text"
      },
      "cell_type": "markdown",
      "source": [
        "## Review: easy steps to train a world-class image classifier"
      ]
    },
    {
      "metadata": {
        "id": "6t8Dw6Mx1CbP",
        "colab_type": "text"
      },
      "cell_type": "markdown",
      "source": [
        "1. precompute=True\n",
        "1. Use `lr_find()` to find highest learning rate where loss is still clearly improving\n",
        "1. Train last layer from precomputed activations for 1-2 epochs\n",
        "1. Train last layer with data augmentation (i.e. precompute=False) for 2-3 epochs with cycle_len=1\n",
        "1. Unfreeze all layers\n",
        "1. Set earlier layers to 3x-10x lower learning rate than next higher layer\n",
        "1. Use `lr_find()` again\n",
        "1. Train full network with cycle_mult=2 until over-fitting"
      ]
    }
  ]
}