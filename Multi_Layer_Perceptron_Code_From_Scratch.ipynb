{
  "nbformat": 4,
  "nbformat_minor": 0,
  "metadata": {
    "colab": {
      "name": "Multi Layer Perceptron Code From Scratch.ipynb",
      "version": "0.3.2",
      "provenance": [],
      "collapsed_sections": [],
      "toc_visible": true,
      "include_colab_link": true
    },
    "kernelspec": {
      "name": "python3",
      "display_name": "Python 3"
    },
    "accelerator": "GPU"
  },
  "cells": [
    {
      "cell_type": "markdown",
      "metadata": {
        "id": "view-in-github",
        "colab_type": "text"
      },
      "source": [
        "<a href=\"https://colab.research.google.com/github/KenyanGeek/Deep-Learning/blob/master/Multi_Layer_Perceptron_Code_From_Scratch.ipynb\" target=\"_parent\"><img src=\"https://colab.research.google.com/assets/colab-badge.svg\" alt=\"Open In Colab\"/></a>"
      ]
    },
    {
      "metadata": {
        "id": "kxLnPdFLLVLC",
        "colab_type": "text"
      },
      "cell_type": "markdown",
      "source": [
        "# Multi Layer Perceptron on MNIST Database\n",
        "Created from Scratch to train a model to categorize MNIST data\n"
      ]
    },
    {
      "metadata": {
        "id": "vQtd9qkEL6kP",
        "colab_type": "code",
        "colab": {}
      },
      "cell_type": "code",
      "source": [
        "#import libraries\n",
        "\n",
        "# http://pytorch.org/\n",
        "from os.path import exists\n",
        "from wheel.pep425tags import get_abbr_impl, get_impl_ver, get_abi_tag\n",
        "platform = '{}{}-{}'.format(get_abbr_impl(), get_impl_ver(), get_abi_tag())\n",
        "cuda_output = !ldconfig -p|grep cudart.so|sed -e 's/.*\\.\\([0-9]*\\)\\.\\([0-9]*\\)$/cu\\1\\2/'\n",
        "accelerator = cuda_output[0] if exists('/dev/nvidia0') else 'cpu'\n",
        "\n",
        "!pip install -q http://download.pytorch.org/whl/{accelerator}/torch-0.4.1-{platform}-linux_x86_64.whl torchvision\n",
        "import torch\n",
        "import numpy as np"
      ],
      "execution_count": 0,
      "outputs": []
    },
    {
      "metadata": {
        "id": "6aE7ZwHiMVu4",
        "colab_type": "text"
      },
      "cell_type": "markdown",
      "source": [
        "# Import the dataset and transformation libraries\n"
      ]
    },
    {
      "metadata": {
        "id": "bTpNgxylLvFB",
        "colab_type": "code",
        "colab": {}
      },
      "cell_type": "code",
      "source": [
        "from torchvision import datasets\n",
        "import torchvision.transforms as transforms\n",
        "from torch.utils.data.sampler import SubsetRandomSampler\n",
        "\n",
        "# number of subprocesses to use for data loading\n",
        "num_workers = 0\n",
        "# how many samples per batch to load\n",
        "batch_size = 20\n",
        "# percentage of training set to use as validation\n",
        "valid_size = 0.2\n",
        "\n",
        "# convert data to torch.FloatTensor\n",
        "transform = transforms.ToTensor()\n",
        "\n",
        "# choose the training and test datasets\n",
        "train_data = datasets.MNIST(root='data', train=True,\n",
        "                                   download=True, transform=transform)\n",
        "test_data = datasets.MNIST(root='data', train=False,\n",
        "                                  download=True, transform=transform)\n",
        "\n",
        "# obtain training indices that will be used for validation\n",
        "num_train = len(train_data)\n",
        "indices = list(range(num_train))\n",
        "np.random.shuffle(indices)\n",
        "split = int(np.floor(valid_size * num_train))\n",
        "train_idx, valid_idx = indices[split:], indices[:split]\n",
        "\n",
        "# define samplers for obtaining training and validation batches\n",
        "train_sampler = SubsetRandomSampler(train_idx)\n",
        "valid_sampler = SubsetRandomSampler(valid_idx)\n",
        "\n",
        "# prepare data loaders\n",
        "train_loader = torch.utils.data.DataLoader(train_data, batch_size=batch_size,\n",
        "    sampler=train_sampler, num_workers=num_workers)\n",
        "valid_loader = torch.utils.data.DataLoader(train_data, batch_size=batch_size, \n",
        "    sampler=valid_sampler, num_workers=num_workers)\n",
        "test_loader = torch.utils.data.DataLoader(test_data, batch_size=batch_size, \n",
        "    num_workers=num_workers)"
      ],
      "execution_count": 0,
      "outputs": []
    },
    {
      "metadata": {
        "id": "JUgqO0IKOkHg",
        "colab_type": "text"
      },
      "cell_type": "markdown",
      "source": [
        "# Visualize the downloaded data"
      ]
    },
    {
      "metadata": {
        "id": "hZ1H8oU9OnUb",
        "colab_type": "code",
        "outputId": "b1119fd3-78bc-4932-c0ca-5c4a9447e9e2",
        "colab": {
          "base_uri": "https://localhost:8080/",
          "height": 193
        }
      },
      "cell_type": "code",
      "source": [
        "import matplotlib.pyplot as plt\n",
        "%matplotlib inline\n",
        "\n",
        "\n",
        "#obtain one batch of training images\n",
        "\n",
        "dataiter = iter(train_loader)\n",
        "images, labels = dataiter.next()\n",
        "images = images.numpy()\n",
        "\n",
        "#plot the image in the batch along with corresponding labels\n",
        "\n",
        "fig = plt.figure()\n",
        "for idx in np.arange(20):\n",
        "  ax = fig.add_subplot(2, 20/2, idx+1, xticks=[], yticks=[])\n",
        "  ax.imshow(np.squeeze(images[idx]), cmap = 'gray')\n",
        "  ax.set_title(str(labels[idx].item()))\n"
      ],
      "execution_count": 27,
      "outputs": [
        {
          "output_type": "display_data",
          "data": {
            "image/png": "[encoded data removed]",
            "text/plain": [
              "<matplotlib.figure.Figure at 0x7f622fff7978>"
            ]
          },
          "metadata": {
            "tags": []
          }
        }
      ]
    },
    {
      "metadata": {
        "id": "jAuf4wAFO3rR",
        "colab_type": "code",
        "colab": {}
      },
      "cell_type": "code",
      "source": [
        ""
      ],
      "execution_count": 0,
      "outputs": []
    },
    {
      "metadata": {
        "id": "C_5EnASeVJvk",
        "colab_type": "text"
      },
      "cell_type": "markdown",
      "source": [
        "# Define the Network Architecture"
      ]
    },
    {
      "metadata": {
        "id": "MpZEo5Z_VNg9",
        "colab_type": "code",
        "outputId": "fe8c9c9c-ae77-470a-c6ac-fddd1a36b3b1",
        "colab": {
          "base_uri": "https://localhost:8080/",
          "height": 118
        }
      },
      "cell_type": "code",
      "source": [
        "import torch.nn as nn\n",
        "import torch.nn.functional as F\n",
        "\n",
        "# define the NN architecture\n",
        "class Net(nn.Module):\n",
        "    def __init__(self):\n",
        "        super(Net, self).__init__()\n",
        "        # number of hidden nodes in each layer (512)\n",
        "        hidden_1 = 512\n",
        "        hidden_2 = 512\n",
        "        # linear layer (784 -> hidden_1)\n",
        "        self.fc1 = nn.Linear(28 * 28, hidden_1)\n",
        "        # linear layer (n_hidden -> hidden_2)\n",
        "        self.fc2 = nn.Linear(hidden_1, hidden_2)\n",
        "        # linear layer (n_hidden -> 10)\n",
        "        self.fc3 = nn.Linear(hidden_2, 10)\n",
        "        # dropout layer (p=0.2)\n",
        "        # dropout prevents overfitting of data\n",
        "        self.dropout = nn.Dropout(0.2)\n",
        "\n",
        "    def forward(self, x):\n",
        "        # flatten image input\n",
        "        x = x.view(-1, 28 * 28)\n",
        "        # add hidden layer, with relu activation function\n",
        "        x = F.relu(self.fc1(x))\n",
        "        # add dropout layer\n",
        "        x = self.dropout(x)\n",
        "        # add hidden layer, with relu activation function\n",
        "        x = F.relu(self.fc2(x))\n",
        "        # add dropout layer\n",
        "        x = self.dropout(x)\n",
        "        # add output layer\n",
        "        x = self.fc3(x)\n",
        "        return x\n",
        "\n",
        "# initialize the NN\n",
        "model = Net()\n",
        "print(model)\n",
        "        "
      ],
      "execution_count": 28,
      "outputs": [
        {
          "output_type": "stream",
          "text": [
            "Net(\n",
            "  (fc1): Linear(in_features=784, out_features=512, bias=True)\n",
            "  (fc2): Linear(in_features=512, out_features=512, bias=True)\n",
            "  (fc3): Linear(in_features=512, out_features=10, bias=True)\n",
            "  (dropout): Dropout(p=0.2)\n",
            ")\n"
          ],
          "name": "stdout"
        }
      ]
    },
    {
      "metadata": {
        "id": "MrNJ9osWcqJI",
        "colab_type": "text"
      },
      "cell_type": "markdown",
      "source": [
        "# Specify Loss Function and Optimizer"
      ]
    },
    {
      "metadata": {
        "id": "l5IjiyOUcxI-",
        "colab_type": "code",
        "colab": {}
      },
      "cell_type": "code",
      "source": [
        "#specify loss function(for category use cross entropy loss)\n",
        "\n",
        "criterion = nn.CrossEntropyLoss()\n",
        "\n",
        "#specify optimizer\n",
        "\n",
        "optimizer = torch.optim.SGD(model.parameters(), lr=0.01)"
      ],
      "execution_count": 0,
      "outputs": []
    },
    {
      "metadata": {
        "id": "aVS39sAAtFrx",
        "colab_type": "text"
      },
      "cell_type": "markdown",
      "source": [
        "# Training the Model\n"
      ]
    },
    {
      "metadata": {
        "id": "_l1jrfprtJ6P",
        "colab_type": "code",
        "colab": {
          "base_uri": "https://localhost:8080/",
          "height": 1680
        },
        "outputId": "681e9cdc-6819-4ceb-c7e5-5acb6d0f595e"
      },
      "cell_type": "code",
      "source": [
        "# number of epochs to train the model\n",
        "n_epochs = 70\n",
        "\n",
        "# initialize tracker for minimum validation loss\n",
        "valid_loss_min = np.Inf # set initial \"min\" to infinity\n",
        "\n",
        "for epoch in range(n_epochs):\n",
        "    # monitor training loss\n",
        "    train_loss = 0.0\n",
        "    valid_loss = 0.0\n",
        "    \n",
        "    ###################\n",
        "    # train the model #\n",
        "    ###################\n",
        "    model.train() # prep model for training\n",
        "    for data, target in train_loader:\n",
        "        # clear the gradients of all optimized variables\n",
        "        optimizer.zero_grad()\n",
        "        # forward pass: compute predicted outputs by passing inputs to the model\n",
        "        output = model(data)\n",
        "        # calculate the loss\n",
        "        loss = criterion(output, target)\n",
        "        # backward pass: compute gradient of the loss with respect to model parameters\n",
        "        loss.backward()\n",
        "        # perform a single optimization step (parameter update)\n",
        "        optimizer.step()\n",
        "        # update running training loss\n",
        "        train_loss += loss.item()*data.size(0)\n",
        "        \n",
        "    ######################    \n",
        "    # validate the model #\n",
        "    ######################\n",
        "    model.eval() # prep model for evaluation\n",
        "    for data, target in valid_loader:\n",
        "        # forward pass: compute predicted outputs by passing inputs to the model\n",
        "        output = model(data)\n",
        "        # calculate the loss\n",
        "        loss = criterion(output, target)\n",
        "        # update running validation loss \n",
        "        valid_loss += loss.item()*data.size(0)\n",
        "        \n",
        "    # print training/validation statistics \n",
        "    # calculate average loss over an epoch\n",
        "    train_loss = train_loss/len(train_loader.dataset)\n",
        "    valid_loss = valid_loss/len(valid_loader.dataset)\n",
        "    \n",
        "    print('Epoch: {} \\tTraining Loss: {:.6f} \\tValidation Loss: {:.6f}'.format(\n",
        "        epoch+1, \n",
        "        train_loss,\n",
        "        valid_loss\n",
        "        ))\n",
        "    \n",
        "    # save model if validation loss has decreased\n",
        "    if valid_loss <= valid_loss_min:\n",
        "        print('Validation loss decreased ({:.6f} --> {:.6f}).  Saving model ...'.format(\n",
        "        valid_loss_min,\n",
        "        valid_loss))\n",
        "        torch.save(model.state_dict(), 'model.pt')\n",
        "        valid_loss_min = valid_loss"
      ],
      "execution_count": 30,
      "outputs": [
        {
          "output_type": "stream",
          "text": [
            "Epoch: 1 \tTraining Loss: 0.746994 \tValidation Loss: 0.074245\n",
            "Validation loss decreased (inf --> 0.074245).  Saving model ...\n",
            "Epoch: 2 \tTraining Loss: 0.284813 \tValidation Loss: 0.057071\n",
            "Validation loss decreased (0.074245 --> 0.057071).  Saving model ...\n",
            "Epoch: 3 \tTraining Loss: 0.224882 \tValidation Loss: 0.047039\n",
            "Validation loss decreased (0.057071 --> 0.047039).  Saving model ...\n",
            "Epoch: 4 \tTraining Loss: 0.185018 \tValidation Loss: 0.040098\n",
            "Validation loss decreased (0.047039 --> 0.040098).  Saving model ...\n",
            "Epoch: 5 \tTraining Loss: 0.156804 \tValidation Loss: 0.035240\n",
            "Validation loss decreased (0.040098 --> 0.035240).  Saving model ...\n",
            "Epoch: 6 \tTraining Loss: 0.134517 \tValidation Loss: 0.030927\n",
            "Validation loss decreased (0.035240 --> 0.030927).  Saving model ...\n",
            "Epoch: 7 \tTraining Loss: 0.120125 \tValidation Loss: 0.028433\n",
            "Validation loss decreased (0.030927 --> 0.028433).  Saving model ...\n",
            "Epoch: 8 \tTraining Loss: 0.106359 \tValidation Loss: 0.025858\n",
            "Validation loss decreased (0.028433 --> 0.025858).  Saving model ...\n",
            "Epoch: 9 \tTraining Loss: 0.095739 \tValidation Loss: 0.023945\n",
            "Validation loss decreased (0.025858 --> 0.023945).  Saving model ...\n",
            "Epoch: 10 \tTraining Loss: 0.086617 \tValidation Loss: 0.023065\n",
            "Validation loss decreased (0.023945 --> 0.023065).  Saving model ...\n",
            "Epoch: 11 \tTraining Loss: 0.080084 \tValidation Loss: 0.021205\n",
            "Validation loss decreased (0.023065 --> 0.021205).  Saving model ...\n",
            "Epoch: 13 \tTraining Loss: 0.067955 \tValidation Loss: 0.019823\n",
            "Validation loss decreased (0.020804 --> 0.019823).  Saving model ...\n",
            "Epoch: 14 \tTraining Loss: 0.062854 \tValidation Loss: 0.018939\n",
            "Validation loss decreased (0.019823 --> 0.018939).  Saving model ...\n",
            "Epoch: 15 \tTraining Loss: 0.058907 \tValidation Loss: 0.018099\n",
            "Validation loss decreased (0.018939 --> 0.018099).  Saving model ...\n",
            "Epoch: 16 \tTraining Loss: 0.054150 \tValidation Loss: 0.017601\n",
            "Validation loss decreased (0.018099 --> 0.017601).  Saving model ...\n",
            "Epoch: 17 \tTraining Loss: 0.051057 \tValidation Loss: 0.017019\n",
            "Validation loss decreased (0.017601 --> 0.017019).  Saving model ...\n",
            "Epoch: 18 \tTraining Loss: 0.047165 \tValidation Loss: 0.016897\n",
            "Validation loss decreased (0.017019 --> 0.016897).  Saving model ...\n",
            "Epoch: 19 \tTraining Loss: 0.044394 \tValidation Loss: 0.016878\n",
            "Validation loss decreased (0.016897 --> 0.016878).  Saving model ...\n",
            "Epoch: 20 \tTraining Loss: 0.042867 \tValidation Loss: 0.015975\n",
            "Validation loss decreased (0.016878 --> 0.015975).  Saving model ...\n",
            "Epoch: 21 \tTraining Loss: 0.039848 \tValidation Loss: 0.015697\n",
            "Validation loss decreased (0.015975 --> 0.015697).  Saving model ...\n",
            "Epoch: 22 \tTraining Loss: 0.038560 \tValidation Loss: 0.015426\n",
            "Validation loss decreased (0.015697 --> 0.015426).  Saving model ...\n",
            "Epoch: 23 \tTraining Loss: 0.035524 \tValidation Loss: 0.015316\n",
            "Validation loss decreased (0.015426 --> 0.015316).  Saving model ...\n",
            "Epoch: 24 \tTraining Loss: 0.034001 \tValidation Loss: 0.015110\n",
            "Validation loss decreased (0.015316 --> 0.015110).  Saving model ...\n",
            "Epoch: 25 \tTraining Loss: 0.031355 \tValidation Loss: 0.015072\n",
            "Validation loss decreased (0.015110 --> 0.015072).  Saving model ...\n",
            "Epoch: 26 \tTraining Loss: 0.029441 \tValidation Loss: 0.014653\n",
            "Validation loss decreased (0.015072 --> 0.014653).  Saving model ...\n",
            "Epoch: 27 \tTraining Loss: 0.028548 \tValidation Loss: 0.014715\n",
            "Epoch: 28 \tTraining Loss: 0.027000 \tValidation Loss: 0.014230\n",
            "Validation loss decreased (0.014653 --> 0.014230).  Saving model ...\n",
            "Epoch: 29 \tTraining Loss: 0.025165 \tValidation Loss: 0.014561\n",
            "Epoch: 30 \tTraining Loss: 0.024068 \tValidation Loss: 0.014765\n",
            "Epoch: 31 \tTraining Loss: 0.022609 \tValidation Loss: 0.014480\n",
            "Epoch: 32 \tTraining Loss: 0.022551 \tValidation Loss: 0.014758\n",
            "Epoch: 33 \tTraining Loss: 0.022075 \tValidation Loss: 0.014310\n",
            "Epoch: 34 \tTraining Loss: 0.020271 \tValidation Loss: 0.014133\n",
            "Validation loss decreased (0.014230 --> 0.014133).  Saving model ...\n",
            "Epoch: 35 \tTraining Loss: 0.019967 \tValidation Loss: 0.014899\n",
            "Epoch: 36 \tTraining Loss: 0.018797 \tValidation Loss: 0.014142\n",
            "Epoch: 37 \tTraining Loss: 0.017770 \tValidation Loss: 0.014064\n",
            "Validation loss decreased (0.014133 --> 0.014064).  Saving model ...\n",
            "Epoch: 38 \tTraining Loss: 0.016997 \tValidation Loss: 0.014250\n",
            "Epoch: 39 \tTraining Loss: 0.016436 \tValidation Loss: 0.013966\n",
            "Validation loss decreased (0.014064 --> 0.013966).  Saving model ...\n",
            "Epoch: 40 \tTraining Loss: 0.015766 \tValidation Loss: 0.014909\n",
            "Epoch: 41 \tTraining Loss: 0.014838 \tValidation Loss: 0.014011\n",
            "Epoch: 42 \tTraining Loss: 0.014618 \tValidation Loss: 0.013908\n",
            "Validation loss decreased (0.013966 --> 0.013908).  Saving model ...\n",
            "Epoch: 43 \tTraining Loss: 0.014046 \tValidation Loss: 0.014254\n",
            "Epoch: 44 \tTraining Loss: 0.012794 \tValidation Loss: 0.014316\n",
            "Epoch: 45 \tTraining Loss: 0.011850 \tValidation Loss: 0.014561\n",
            "Epoch: 46 \tTraining Loss: 0.012351 \tValidation Loss: 0.014794\n",
            "Epoch: 47 \tTraining Loss: 0.011468 \tValidation Loss: 0.014433\n",
            "Epoch: 48 \tTraining Loss: 0.012177 \tValidation Loss: 0.014168\n",
            "Epoch: 49 \tTraining Loss: 0.011525 \tValidation Loss: 0.013944\n",
            "Epoch: 50 \tTraining Loss: 0.010915 \tValidation Loss: 0.014328\n",
            "Epoch: 51 \tTraining Loss: 0.010566 \tValidation Loss: 0.014185\n",
            "Epoch: 52 \tTraining Loss: 0.009904 \tValidation Loss: 0.014165\n",
            "Epoch: 53 \tTraining Loss: 0.009807 \tValidation Loss: 0.014249\n",
            "Epoch: 54 \tTraining Loss: 0.010093 \tValidation Loss: 0.014439\n",
            "Epoch: 55 \tTraining Loss: 0.009173 \tValidation Loss: 0.014447\n",
            "Epoch: 56 \tTraining Loss: 0.008795 \tValidation Loss: 0.014771\n",
            "Epoch: 57 \tTraining Loss: 0.008450 \tValidation Loss: 0.014458\n",
            "Epoch: 58 \tTraining Loss: 0.008545 \tValidation Loss: 0.014337\n",
            "Epoch: 59 \tTraining Loss: 0.007899 \tValidation Loss: 0.014336\n",
            "Epoch: 60 \tTraining Loss: 0.007868 \tValidation Loss: 0.014382\n",
            "Epoch: 61 \tTraining Loss: 0.007600 \tValidation Loss: 0.014432\n",
            "Epoch: 62 \tTraining Loss: 0.007223 \tValidation Loss: 0.014480\n",
            "Epoch: 63 \tTraining Loss: 0.007294 \tValidation Loss: 0.014398\n",
            "Epoch: 64 \tTraining Loss: 0.006992 \tValidation Loss: 0.014738\n",
            "Epoch: 65 \tTraining Loss: 0.006626 \tValidation Loss: 0.014603\n",
            "Epoch: 66 \tTraining Loss: 0.006935 \tValidation Loss: 0.014643\n",
            "Epoch: 67 \tTraining Loss: 0.007108 \tValidation Loss: 0.014552\n",
            "Epoch: 68 \tTraining Loss: 0.006337 \tValidation Loss: 0.014686\n",
            "Epoch: 69 \tTraining Loss: 0.006060 \tValidation Loss: 0.014839\n",
            "Epoch: 70 \tTraining Loss: 0.005949 \tValidation Loss: 0.015015\n"
          ],
          "name": "stdout"
        }
      ]
    },
    {
      "metadata": {
        "id": "az899ZOq8Y-R",
        "colab_type": "text"
      },
      "cell_type": "markdown",
      "source": [
        "# Test the Trained Model"
      ]
    },
    {
      "metadata": {
        "id": "N1nRPd26Fatz",
        "colab_type": "code",
        "colab": {}
      },
      "cell_type": "code",
      "source": [
        "model.load_state_dict(torch.load('model.pt'))"
      ],
      "execution_count": 0,
      "outputs": []
    },
    {
      "metadata": {
        "id": "AwMyTIH68Xx7",
        "colab_type": "code",
        "colab": {
          "base_uri": "https://localhost:8080/",
          "height": 252
        },
        "outputId": "47b062c6-7b18-4b97-8baf-974b4cbbd061"
      },
      "cell_type": "code",
      "source": [
        "# initialize lists to monitor test loss and accuracy\n",
        "test_loss = 0.0\n",
        "class_correct = list(0. for i in range(10))\n",
        "class_total = list(0. for i in range(10))\n",
        "\n",
        "model.eval() # prep model for evaluation\n",
        "\n",
        "for data, target in test_loader:\n",
        "    # forward pass: compute predicted outputs by passing inputs to the model\n",
        "    output = model(data)\n",
        "    # calculate the loss\n",
        "    loss = criterion(output, target)\n",
        "    # update test loss \n",
        "    test_loss += loss.item()*data.size(0)\n",
        "    # convert output probabilities to predicted class\n",
        "    _, pred = torch.max(output, 1)\n",
        "    # compare predictions to true label\n",
        "    correct = np.squeeze(pred.eq(target.data.view_as(pred)))\n",
        "    # calculate test accuracy for each object class\n",
        "    for i in range(batch_size):\n",
        "        label = target.data[i]\n",
        "        class_correct[label] += correct[i].item()\n",
        "        class_total[label] += 1\n",
        "\n",
        "# calculate and print avg test loss\n",
        "test_loss = test_loss/len(test_loader.dataset)\n",
        "print('Test Loss: {:.6f}\\n'.format(test_loss))\n",
        "\n",
        "for i in range(10):\n",
        "    if class_total[i] > 0:\n",
        "        print('Test Accuracy of %5s: %2d%% (%2d/%2d)' % (\n",
        "            str(i), 100 * class_correct[i] / class_total[i],\n",
        "            np.sum(class_correct[i]), np.sum(class_total[i])))\n",
        "    else:\n",
        "        print('Test Accuracy of %5s: N/A (no training examples)' % (classes[i]))\n",
        "\n",
        "print('\\nTest Accuracy (Overall): %2d%% (%2d/%2d)' % (\n",
        "    100. * np.sum(class_correct) / np.sum(class_total),\n",
        "    np.sum(class_correct), np.sum(class_total)))"
      ],
      "execution_count": 34,
      "outputs": [
        {
          "output_type": "stream",
          "text": [
            "Test Loss: 0.058922\n",
            "\n",
            "Test Accuracy of     0: 99% (971/980)\n",
            "Test Accuracy of     1: 98% (1123/1135)\n",
            "Test Accuracy of     2: 98% (1014/1032)\n",
            "Test Accuracy of     3: 98% (992/1010)\n",
            "Test Accuracy of     4: 97% (957/982)\n",
            "Test Accuracy of     5: 97% (872/892)\n",
            "Test Accuracy of     6: 98% (942/958)\n",
            "Test Accuracy of     7: 97% (1003/1028)\n",
            "Test Accuracy of     8: 97% (954/974)\n",
            "Test Accuracy of     9: 97% (987/1009)\n",
            "\n",
            "Test Accuracy (Overall): 98% (9815/10000)\n"
          ],
          "name": "stdout"
        }
      ]
    },
    {
      "metadata": {
        "id": "QRwye0gR-vx0",
        "colab_type": "text"
      },
      "cell_type": "markdown",
      "source": [
        "# Visualize Sample Test Results"
      ]
    },
    {
      "metadata": {
        "id": "IaeG3l7V-lkl",
        "colab_type": "code",
        "colab": {
          "base_uri": "https://localhost:8080/",
          "height": 283
        },
        "outputId": "f7af7d6f-b867-46e9-faf1-bb1715eb6381"
      },
      "cell_type": "code",
      "source": [
        "# obtain one batch of test images\n",
        "dataiter = iter(test_loader)\n",
        "images, labels = dataiter.next()\n",
        "\n",
        "# get sample outputs\n",
        "output = model(images)\n",
        "# convert output probabilities to predicted class\n",
        "_, preds = torch.max(output, 1)\n",
        "# prep images for display\n",
        "images = images.numpy()\n",
        "\n",
        "# plot the images in the batch, along with predicted and true labels\n",
        "fig = plt.figure(figsize=(25, 4))\n",
        "for idx in np.arange(20):\n",
        "    ax = fig.add_subplot(2, 20/2, idx+1, xticks=[], yticks=[])\n",
        "    ax.imshow(np.squeeze(images[idx]), cmap='gray')\n",
        "    ax.set_title(\"{} ({})\".format(str(preds[idx].item()), str(labels[idx].item())),\n",
        "                 color=(\"green\" if preds[idx]==labels[idx] else \"red\"))"
      ],
      "execution_count": 35,
      "outputs": [
        {
          "output_type": "display_data",
          "data": {
            "image/png": "[encoded data removed]",
            "text/plain": [
              "<matplotlib.figure.Figure at 0x7f62447b1c18>"
            ]
          },
          "metadata": {
            "tags": []
          }
        }
      ]
    }
  ]
}