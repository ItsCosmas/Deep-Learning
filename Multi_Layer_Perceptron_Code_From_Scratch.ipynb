{
  "nbformat": 4,
  "nbformat_minor": 0,
  "metadata": {
    "colab": {
      "name": "Multi Layer Perceptron Code From Scratch.ipynb",
      "version": "0.3.2",
      "provenance": [],
      "include_colab_link": true
    },
    "kernelspec": {
      "name": "python3",
      "display_name": "Python 3"
    },
    "accelerator": "GPU"
  },
  "cells": [
    {
      "cell_type": "markdown",
      "metadata": {
        "id": "view-in-github",
        "colab_type": "text"
      },
      "source": [
        "<a href=\"https://colab.research.google.com/github/KenyanGeek/Deep-Learning/blob/master/Multi_Layer_Perceptron_Code_From_Scratch.ipynb\" target=\"_parent\"><img src=\"https://colab.research.google.com/assets/colab-badge.svg\" alt=\"Open In Colab\"/></a>"
      ]
    },
    {
      "metadata": {
        "id": "kxLnPdFLLVLC",
        "colab_type": "text"
      },
      "cell_type": "markdown",
      "source": [
        "# Multi Layer Perceptron on MNIST Database\n",
        "Created from Scratch to train a model to categorize MNIST data\n"
      ]
    },
    {
      "metadata": {
        "id": "vQtd9qkEL6kP",
        "colab_type": "code",
        "colab": {
          "base_uri": "https://localhost:8080/",
          "height": 54
        },
        "outputId": "e04b1551-0bf8-4541-8b35-8263fa39041e"
      },
      "cell_type": "code",
      "source": [
        "#import libraries\n",
        "\n",
        "# http://pytorch.org/\n",
        "from os.path import exists\n",
        "from wheel.pep425tags import get_abbr_impl, get_impl_ver, get_abi_tag\n",
        "platform = '{}{}-{}'.format(get_abbr_impl(), get_impl_ver(), get_abi_tag())\n",
        "cuda_output = !ldconfig -p|grep cudart.so|sed -e 's/.*\\.\\([0-9]*\\)\\.\\([0-9]*\\)$/cu\\1\\2/'\n",
        "accelerator = cuda_output[0] if exists('/dev/nvidia0') else 'cpu'\n",
        "\n",
        "!pip install -q http://download.pytorch.org/whl/{accelerator}/torch-0.4.1-{platform}-linux_x86_64.whl torchvision\n",
        "import torch\n",
        "import numpy as np"
      ],
      "execution_count": 3,
      "outputs": [
        {
          "output_type": "stream",
          "text": [
            "tcmalloc: large alloc 1073750016 bytes == 0x5921a000 @  0x7efea8f2c2a4 0x591a07 0x5b5d56 0x502e9a 0x506859 0x502209 0x502f3d 0x506859 0x504c28 0x502540 0x502f3d 0x506859 0x504c28 0x502540 0x502f3d 0x506859 0x504c28 0x502540 0x502f3d 0x507641 0x502209 0x502f3d 0x506859 0x504c28 0x502540 0x502f3d 0x507641 0x504c28 0x502540 0x502f3d 0x507641\n"
          ],
          "name": "stdout"
        }
      ]
    },
    {
      "metadata": {
        "id": "6aE7ZwHiMVu4",
        "colab_type": "text"
      },
      "cell_type": "markdown",
      "source": [
        "# Import the dataset and transformation libraries\n"
      ]
    },
    {
      "metadata": {
        "id": "bTpNgxylLvFB",
        "colab_type": "code",
        "colab": {}
      },
      "cell_type": "code",
      "source": [
        "from torchvision import datasets\n",
        "import torchvision.transforms as transforms"
      ],
      "execution_count": 0,
      "outputs": []
    },
    {
      "metadata": {
        "id": "nsXeLE2dMkkG",
        "colab_type": "code",
        "colab": {}
      },
      "cell_type": "code",
      "source": [
        "#number of workers\n",
        "\n",
        "num_workers = 1"
      ],
      "execution_count": 0,
      "outputs": []
    },
    {
      "metadata": {
        "id": "kjUT9CvLMrAU",
        "colab_type": "code",
        "colab": {}
      },
      "cell_type": "code",
      "source": [
        "#how many samples per batch to load\n",
        "batch_size = 20"
      ],
      "execution_count": 0,
      "outputs": []
    },
    {
      "metadata": {
        "id": "8MkYaGJSMwpK",
        "colab_type": "code",
        "colab": {}
      },
      "cell_type": "code",
      "source": [
        "#convert the data to torch tensor\n",
        "transform = transforms.ToTensor()\n"
      ],
      "execution_count": 0,
      "outputs": []
    },
    {
      "metadata": {
        "id": "IW2cevzJNDFY",
        "colab_type": "text"
      },
      "cell_type": "markdown",
      "source": [
        "# Load Training and Test Data\n"
      ]
    },
    {
      "metadata": {
        "id": "Wb7-NKYANInq",
        "colab_type": "code",
        "colab": {
          "base_uri": "https://localhost:8080/",
          "height": 118
        },
        "outputId": "6b812529-393b-4962-e98f-0c92d0393d42"
      },
      "cell_type": "code",
      "source": [
        "train_data = datasets.MNIST(root='data', train =True, download=True, transform=transform)\n",
        "test_data = datasets.MNIST(root='data', train =False, download=True, transform=transform)"
      ],
      "execution_count": 8,
      "outputs": [
        {
          "output_type": "stream",
          "text": [
            "Downloading http://yann.lecun.com/exdb/mnist/train-images-idx3-ubyte.gz\n",
            "Downloading http://yann.lecun.com/exdb/mnist/train-labels-idx1-ubyte.gz\n",
            "Downloading http://yann.lecun.com/exdb/mnist/t10k-images-idx3-ubyte.gz\n",
            "Downloading http://yann.lecun.com/exdb/mnist/t10k-labels-idx1-ubyte.gz\n",
            "Processing...\n",
            "Done!\n"
          ],
          "name": "stdout"
        }
      ]
    },
    {
      "metadata": {
        "id": "5g7FlDEaOTSx",
        "colab_type": "text"
      },
      "cell_type": "markdown",
      "source": [
        "# Prepare Data loaders\n"
      ]
    },
    {
      "metadata": {
        "id": "kIy_lq6WOaQR",
        "colab_type": "code",
        "colab": {}
      },
      "cell_type": "code",
      "source": [
        "train_loader = torch.utils.data.DataLoader(train_data, batch_size = batch_size, num_workers = num_workers)\n",
        "train_loader = torch.utils.data.DataLoader(test_data, batch_size = batch_size, num_workers = num_workers)"
      ],
      "execution_count": 0,
      "outputs": []
    },
    {
      "metadata": {
        "id": "JUgqO0IKOkHg",
        "colab_type": "text"
      },
      "cell_type": "markdown",
      "source": [
        "# Visualize the downloaded data"
      ]
    },
    {
      "metadata": {
        "id": "hZ1H8oU9OnUb",
        "colab_type": "code",
        "colab": {
          "base_uri": "https://localhost:8080/",
          "height": 193
        },
        "outputId": "e4d0ecea-b23d-406c-9ac0-9f3d341f3661"
      },
      "cell_type": "code",
      "source": [
        "import matplotlib.pyplot as plt\n",
        "%matplotlib inline\n",
        "\n",
        "\n",
        "#obtain one batch of training images\n",
        "\n",
        "dataiter = iter(train_loader)\n",
        "images, labels = dataiter.next()\n",
        "images = images.numpy()\n",
        "\n",
        "#plot the image in the batch along with corresponding labels\n",
        "\n",
        "fig = plt.figure()\n",
        "for idx in np.arange(20):\n",
        "  ax = fig.add_subplot(2, 20/2, idx+1, xticks=[], yticks=[])\n",
        "  ax.imshow(np.squeeze(images[idx]), cmap = 'gray')\n",
        "  ax.set_title(str(labels[idx].item()))\n"
      ],
      "execution_count": 13,
      "outputs": [
        {
          "output_type": "display_data",
          "data": {
            "image/png": "[encoded data removed]",
            "text/plain": [
              "<matplotlib.figure.Figure at 0x7f26beac4f28>"
            ]
          },
          "metadata": {
            "tags": []
          }
        }
      ]
    },
    {
      "metadata": {
        "id": "jAuf4wAFO3rR",
        "colab_type": "code",
        "colab": {}
      },
      "cell_type": "code",
      "source": [
        ""
      ],
      "execution_count": 0,
      "outputs": []
    },
    {
      "metadata": {
        "id": "C_5EnASeVJvk",
        "colab_type": "text"
      },
      "cell_type": "markdown",
      "source": [
        "# Define the Network Architecture"
      ]
    },
    {
      "metadata": {
        "id": "MpZEo5Z_VNg9",
        "colab_type": "code",
        "colab": {
          "base_uri": "https://localhost:8080/",
          "height": 118
        },
        "outputId": "00eac1cd-4207-4125-d601-56e1537694a6"
      },
      "cell_type": "code",
      "source": [
        "import torch.nn as nn\n",
        "import torch.nn.functional as F\n",
        "\n",
        "#defining the architecture\n",
        "\n",
        "class Net(nn.Module):\n",
        "    def __init__(self):\n",
        "      super(Net, self).__init__()\n",
        "      \n",
        "      #number of hidden nodes in each layer\n",
        "      \n",
        "      self.fc1 = nn.Linear(784, 512)\n",
        "      self.fc2 = nn.Linear(512, 512)\n",
        "      self.fc3 = nn.Linear(512, 10)\n",
        "      \n",
        "      #add a droput layer to prevent overfitting\n",
        "      \n",
        "      self.dropout = nn.Dropout(0.2)\n",
        "      \n",
        "    def forward(self, x):\n",
        "      #flatten image input\n",
        "      \n",
        "      x = x.view(-1, 784)\n",
        "      \n",
        "      # add hidden layer with relu activation function \n",
        "      \n",
        "      x = F.relu(self.fc1(x))\n",
        "      \n",
        "      #add dropout layer\n",
        "      \n",
        "      x = self.dropout(x)\n",
        "      \n",
        "      # add hidden layer with relu activation function again\n",
        "      \n",
        "      x = F.relu(self.fc2(x))\n",
        "      \n",
        "      #add dropout layer\n",
        "      \n",
        "      x = self.dropout(x)\n",
        "      \n",
        "       # add output layer\n",
        "      \n",
        "      x = self.fc3(x)\n",
        "      \n",
        "      return x\n",
        "    \n",
        "    \n",
        "#Initialize the Neural Network\n",
        "\n",
        "model = Net()\n",
        "print(model)\n",
        "        "
      ],
      "execution_count": 15,
      "outputs": [
        {
          "output_type": "stream",
          "text": [
            "Net(\n",
            "  (fc1): Linear(in_features=784, out_features=512, bias=True)\n",
            "  (fc2): Linear(in_features=512, out_features=512, bias=True)\n",
            "  (fc3): Linear(in_features=512, out_features=10, bias=True)\n",
            "  (dropout): Dropout(p=0.2)\n",
            ")\n"
          ],
          "name": "stdout"
        }
      ]
    },
    {
      "metadata": {
        "id": "LgQ0a7OLb7eS",
        "colab_type": "code",
        "colab": {}
      },
      "cell_type": "code",
      "source": [
        ""
      ],
      "execution_count": 0,
      "outputs": []
    }
  ]
}